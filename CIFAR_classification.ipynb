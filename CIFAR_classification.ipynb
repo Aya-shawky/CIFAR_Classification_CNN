{
  "nbformat": 4,
  "nbformat_minor": 0,
  "metadata": {
    "colab": {
      "provenance": [],
      "gpuType": "T4",
      "authorship_tag": "ABX9TyPIcbIjl8UBxeFT4vcGAM6g"
    },
    "kernelspec": {
      "name": "python3",
      "display_name": "Python 3"
    },
    "language_info": {
      "name": "python"
    },
    "accelerator": "GPU"
  },
  "cells": [
    {
      "cell_type": "markdown",
      "source": [
        "# installations"
      ],
      "metadata": {
        "id": "2RpDQTtcIE3v"
      }
    },
    {
      "cell_type": "code",
      "execution_count": 1,
      "metadata": {
        "id": "IL2xXNvVKVex"
      },
      "outputs": [],
      "source": [
        "import torch\n",
        "import torchvision\n",
        "import torchvision.transforms as transforms\n"
      ]
    },
    {
      "cell_type": "code",
      "source": [
        "import numpy as np\n",
        "import numpy.random as random\n",
        "import matplotlib.pyplot as plt\n",
        "\n"
      ],
      "metadata": {
        "id": "_RKZ1Y0NQby6"
      },
      "execution_count": 2,
      "outputs": []
    },
    {
      "cell_type": "code",
      "source": [
        "import torch.nn as nn\n",
        "import torch.nn.functional as F"
      ],
      "metadata": {
        "id": "5GQRnPFqQ0J7"
      },
      "execution_count": 3,
      "outputs": []
    },
    {
      "cell_type": "code",
      "source": [
        "!pip install torcheval"
      ],
      "metadata": {
        "colab": {
          "base_uri": "https://localhost:8080/"
        },
        "id": "oVnIUuocTA_f",
        "outputId": "441df7cf-5c43-46bf-c5d8-c95963e27ae6"
      },
      "execution_count": 4,
      "outputs": [
        {
          "output_type": "stream",
          "name": "stdout",
          "text": [
            "Collecting torcheval\n",
            "  Downloading torcheval-0.0.7-py3-none-any.whl (179 kB)\n",
            "\u001b[2K     \u001b[90m━━━━━━━━━━━━━━━━━━━━━━━━━━━━━━━━━━━━━━━━\u001b[0m \u001b[32m179.2/179.2 kB\u001b[0m \u001b[31m1.7 MB/s\u001b[0m eta \u001b[36m0:00:00\u001b[0m\n",
            "\u001b[?25hRequirement already satisfied: typing-extensions in /usr/local/lib/python3.10/dist-packages (from torcheval) (4.5.0)\n",
            "Installing collected packages: torcheval\n",
            "Successfully installed torcheval-0.0.7\n"
          ]
        }
      ]
    },
    {
      "cell_type": "code",
      "source": [
        "from torcheval.metrics.functional import multiclass_f1_score\n",
        "from torcheval.metrics import MulticlassRecall , MulticlassPrecision\n"
      ],
      "metadata": {
        "id": "8Q8CBbUGS1qw"
      },
      "execution_count": 5,
      "outputs": []
    },
    {
      "cell_type": "code",
      "source": [
        "device = torch.device('cuda:0' if torch.cuda.is_available() else 'cpu')"
      ],
      "metadata": {
        "id": "cs8rf7WQTTIp"
      },
      "execution_count": 6,
      "outputs": []
    },
    {
      "cell_type": "code",
      "source": [
        "batch_size = 16\n",
        "EPOCHS = 70"
      ],
      "metadata": {
        "id": "4fIAgF3FaqWo"
      },
      "execution_count": 7,
      "outputs": []
    },
    {
      "cell_type": "markdown",
      "source": [
        "# Read Data"
      ],
      "metadata": {
        "id": "WgM8FyGqhYS6"
      }
    },
    {
      "cell_type": "code",
      "source": [
        "\n",
        "train_transform = transforms.Compose([\n",
        "     transforms.RandomChoice([\n",
        "        transforms.RandomHorizontalFlip(p=0.5),\n",
        "        transforms.RandomRotation((10,10)),\n",
        "     transforms.ColorJitter(brightness = (0.7,1.2)),\n",
        "    ]),\n",
        "     transforms.Compose([\n",
        "      transforms.Resize(size=64),\n",
        "       transforms.ToTensor(),\n",
        "       transforms.Normalize((0.4914, 0.4822, 0.4465), (0.2470, 0.2435, 0.2616))])\n",
        "\n",
        "])\n",
        "\n",
        "transform = transforms.Compose(\n",
        "    [transforms.Resize(size=64),\n",
        "     transforms.ToTensor(),\n",
        "     transforms.Normalize((0.4914, 0.4822, 0.4465), (0.2470, 0.2435, 0.2616)),\n",
        "     ])\n"
      ],
      "metadata": {
        "id": "opwJAj_KEKPo"
      },
      "execution_count": 8,
      "outputs": []
    },
    {
      "cell_type": "code",
      "source": [
        "trainset = torchvision.datasets.CIFAR10(root='./data', train=True,\n",
        "                                        download=True, transform=train_transform)\n",
        "trainloader = torch.utils.data.DataLoader(trainset, batch_size=batch_size,\n",
        "                                          shuffle=True, num_workers=2)\n",
        "\n",
        "testset = torchvision.datasets.CIFAR10(root='./data', train=False,\n",
        "                                       download=True, transform=transform)\n",
        "testloader = torch.utils.data.DataLoader(testset, batch_size=batch_size,\n",
        "                                         shuffle=False, num_workers=2)"
      ],
      "metadata": {
        "id": "J3HrrlTTPeAE",
        "colab": {
          "base_uri": "https://localhost:8080/"
        },
        "outputId": "941b7313-c84d-4000-baa5-e3b5199f4f7d"
      },
      "execution_count": 9,
      "outputs": [
        {
          "output_type": "stream",
          "name": "stdout",
          "text": [
            "Downloading https://www.cs.toronto.edu/~kriz/cifar-10-python.tar.gz to ./data/cifar-10-python.tar.gz\n"
          ]
        },
        {
          "output_type": "stream",
          "name": "stderr",
          "text": [
            "100%|██████████| 170498071/170498071 [00:13<00:00, 12983194.51it/s]\n"
          ]
        },
        {
          "output_type": "stream",
          "name": "stdout",
          "text": [
            "Extracting ./data/cifar-10-python.tar.gz to ./data\n",
            "Files already downloaded and verified\n"
          ]
        }
      ]
    },
    {
      "cell_type": "markdown",
      "source": [
        "## Random visualization"
      ],
      "metadata": {
        "id": "5SZIgpQrNj2I"
      }
    },
    {
      "cell_type": "code",
      "source": [
        "#random visualization\n",
        "random_index = random.randint(400, size=9)\n",
        "images = [trainset[i][0] for i in random_index]\n",
        "labels = [trainset.classes[trainset[i][1]] for i in random_index]\n",
        "\n",
        "plt.figure(figsize=(10,10))\n",
        "for i in range(9):\n",
        "    plt.subplot(3,3,i+1)\n",
        "    plt.imshow((images[i] / 2 + 0.5).permute(1, 2, 0) ) #chnage the indexes 32×32×3\n",
        "    plt.title('label: {}'.format(labels[i]))\n",
        "    plt.axis('off')"
      ],
      "metadata": {
        "id": "o3EVDvtRIcz8",
        "colab": {
          "base_uri": "https://localhost:8080/",
          "height": 985
        },
        "outputId": "a79926a0-9be8-4a35-cea0-e6bc87e5ea7e"
      },
      "execution_count": 10,
      "outputs": [
        {
          "output_type": "stream",
          "name": "stderr",
          "text": [
            "WARNING:matplotlib.image:Clipping input data to the valid range for imshow with RGB data ([0..1] for floats or [0..255] for integers).\n",
            "WARNING:matplotlib.image:Clipping input data to the valid range for imshow with RGB data ([0..1] for floats or [0..255] for integers).\n",
            "WARNING:matplotlib.image:Clipping input data to the valid range for imshow with RGB data ([0..1] for floats or [0..255] for integers).\n",
            "WARNING:matplotlib.image:Clipping input data to the valid range for imshow with RGB data ([0..1] for floats or [0..255] for integers).\n",
            "WARNING:matplotlib.image:Clipping input data to the valid range for imshow with RGB data ([0..1] for floats or [0..255] for integers).\n",
            "WARNING:matplotlib.image:Clipping input data to the valid range for imshow with RGB data ([0..1] for floats or [0..255] for integers).\n",
            "WARNING:matplotlib.image:Clipping input data to the valid range for imshow with RGB data ([0..1] for floats or [0..255] for integers).\n",
            "WARNING:matplotlib.image:Clipping input data to the valid range for imshow with RGB data ([0..1] for floats or [0..255] for integers).\n",
            "WARNING:matplotlib.image:Clipping input data to the valid range for imshow with RGB data ([0..1] for floats or [0..255] for integers).\n"
          ]
        },
        {
          "output_type": "display_data",
          "data": {
            "text/plain": [
              "<Figure size 1000x1000 with 9 Axes>"
            ],
            "image/png": "[encoded data removed]"
          },
          "metadata": {}
        }
      ]
    },
    {
      "cell_type": "code",
      "source": [
        "\n",
        "classes = ('plane', 'car', 'bird', 'cat',\n",
        "           'deer', 'dog', 'frog', 'horse', 'ship', 'truck')\n",
        "\n",
        "CLASS, counts = np.unique(trainset.classes, return_counts=True)\n",
        "plt.barh(classes, counts)\n",
        "plt.title('Class distribution in training set')"
      ],
      "metadata": {
        "id": "jz3GlXQJocIf",
        "colab": {
          "base_uri": "https://localhost:8080/",
          "height": 469
        },
        "outputId": "14317126-ca61-483f-e083-b682141a39a4"
      },
      "execution_count": 11,
      "outputs": [
        {
          "output_type": "execute_result",
          "data": {
            "text/plain": [
              "Text(0.5, 1.0, 'Class distribution in training set')"
            ]
          },
          "metadata": {},
          "execution_count": 11
        },
        {
          "output_type": "display_data",
          "data": {
            "text/plain": [
              "<Figure size 640x480 with 1 Axes>"
            ],
            "image/png": "[encoded data removed]"
          },
          "metadata": {}
        }
      ]
    },
    {
      "cell_type": "code",
      "source": [
        "CLASS, counts = np.unique(testset.classes, return_counts=True)\n",
        "plt.barh(classes, counts)\n",
        "plt.title('Class distribution in testing set')"
      ],
      "metadata": {
        "id": "M_QTypHypB_X",
        "colab": {
          "base_uri": "https://localhost:8080/",
          "height": 469
        },
        "outputId": "5c6e74fd-3db5-4692-a6a6-f911c064c359"
      },
      "execution_count": 12,
      "outputs": [
        {
          "output_type": "execute_result",
          "data": {
            "text/plain": [
              "Text(0.5, 1.0, 'Class distribution in testing set')"
            ]
          },
          "metadata": {},
          "execution_count": 12
        },
        {
          "output_type": "display_data",
          "data": {
            "text/plain": [
              "<Figure size 640x480 with 1 Axes>"
            ],
            "image/png": "[encoded data removed]"
          },
          "metadata": {}
        }
      ]
    },
    {
      "cell_type": "markdown",
      "source": [
        "# Purposed Model"
      ],
      "metadata": {
        "id": "Z4fUgBwvAysh"
      }
    },
    {
      "cell_type": "code",
      "source": [
        "#Simple_dropout -> dropout 0.2\n",
        "class Simple_dropout(nn.Module):\n",
        "    def __init__(self):\n",
        "        super().__init__()\n",
        "        self.conv1 = nn.Conv2d(3, 6, 5, padding  = 2) #64\n",
        "        self.conv2 = nn.Conv2d(6, 16, 3,  padding  = 1) #64\n",
        "        self.pool = nn.MaxPool2d(2, 2) #32\n",
        "        self.dropout = nn.Dropout(0.2)\n",
        "        self.conv3 = nn.Conv2d(16, 32, 3, padding  = 1) #16\n",
        "        self.conv4 = nn.Conv2d(32, 32, 3,  padding  = 1) #16\n",
        "       # self.pool  #16\n",
        "\n",
        "        self.fc1 = nn.Linear(32 * 16 * 16, 120)\n",
        "        self.fc2 = nn.Linear(120, 10)\n",
        "\n",
        "    def forward(self, x):\n",
        "        x = F.relu(self.conv1(x))\n",
        "        x = self.pool(F.relu(self.conv2(x)))\n",
        "        x = F.relu(self.conv3(x))\n",
        "        x = self.pool(F.relu(self.conv4(x)))\n",
        "\n",
        "        x = torch.flatten(x, 1) # flatten all dimensions except batch\n",
        "        x = F.relu(self.fc1(x))\n",
        "        x = self.dropout(x)\n",
        "\n",
        "        x = self.fc2(x)\n",
        "        return x\n",
        "\n",
        "\n",
        "net = Simple_dropout().to(device)\n",
        "#calc parameters\n",
        "total_params = sum(p.numel() for p in net.parameters())\n",
        "total_trainable_params = sum(p.numel() for p in net.parameters() if p.requires_grad)\n",
        "\n",
        "print(f\"Total number of parameters: {total_params}\")\n",
        "print(f\"Total number of trainable parameters: {total_trainable_params}\")\n"
      ],
      "metadata": {
        "colab": {
          "base_uri": "https://localhost:8080/"
        },
        "id": "vlRIhkL6wIZu",
        "outputId": "e52b6802-0e9d-4701-cedc-db0f3458f775"
      },
      "execution_count": 13,
      "outputs": [
        {
          "output_type": "stream",
          "name": "stdout",
          "text": [
            "Total number of parameters: 999594\n",
            "Total number of trainable parameters: 999594\n"
          ]
        }
      ]
    },
    {
      "cell_type": "code",
      "source": [
        "def calc_output_size():\n",
        "    i = 32\n",
        "    d = 1\n",
        "    k = 5\n",
        "    s = 1\n",
        "    p = 2\n",
        "    o = (i + 2*p - k - (k-1)*(d-1))/s + 1\n",
        "    print(o)\n",
        "calc_output_size()"
      ],
      "metadata": {
        "colab": {
          "base_uri": "https://localhost:8080/"
        },
        "outputId": "a6518dbc-208f-4d58-c5c2-3ae655deb7d9",
        "id": "nSL10X6OAysj"
      },
      "execution_count": 14,
      "outputs": [
        {
          "output_type": "stream",
          "name": "stdout",
          "text": [
            "32.0\n"
          ]
        }
      ]
    },
    {
      "cell_type": "code",
      "source": [
        "import torch.optim as optim\n",
        "\n",
        "criterion = nn.CrossEntropyLoss()\n",
        "#optimizer = optim.SGD(net.parameters(), lr=0.01, momentum=0.9)\n",
        "optimizer = optim.Adam(net.parameters(), lr=0.001)"
      ],
      "metadata": {
        "id": "YQCvlm3hAysj"
      },
      "execution_count": 15,
      "outputs": []
    },
    {
      "cell_type": "code",
      "source": [
        "# the class with the highest energy is what we choose as prediction\n",
        "def accurcy(outputs, labels):\n",
        "    _, pred = torch.max(outputs.data, 1)\n",
        "    return ((pred == labels).sum().item())"
      ],
      "metadata": {
        "id": "_Bn7Te47Aysj"
      },
      "execution_count": 16,
      "outputs": []
    },
    {
      "cell_type": "code",
      "source": [
        "def evaluate():\n",
        "    correct = 0\n",
        "    total = 0\n",
        "    running_loss = 0.0\n",
        "    # since we're not training, we don't need to calculate the gradients for our outputs\n",
        "    with torch.no_grad():\n",
        "        for data in testloader:\n",
        "            images, labels = data[0].to(device) , data[1].to(device)\n",
        "            # calculate outputs by running images through the network\n",
        "            outputs = net(images)\n",
        "            loss = criterion(outputs, labels)\n",
        "            running_loss += loss.item() * images.size(0)\n",
        "\n",
        "            correct += accurcy(outputs, labels)\n",
        "            total += labels.size(0)\n",
        "    return (running_loss/len(testset)) , (correct / total)\n"
      ],
      "metadata": {
        "id": "tgDpK5akAysj"
      },
      "execution_count": 17,
      "outputs": []
    },
    {
      "cell_type": "code",
      "source": [
        "train_loss = []\n",
        "test_loss = []\n",
        "train_acc = []\n",
        "test_acc = []\n",
        "\n",
        "for epoch in range(EPOCHS):  # loop over the dataset multiple times\n",
        "\n",
        "    correct = 0.0\n",
        "    total_batches = 0\n",
        "    running_loss = 0.0\n",
        "\n",
        "    for i, data in enumerate(trainloader, 0):\n",
        "        # get the inputs; data is a list of [inputs, labels]\n",
        "        inputs, labels = data[0].to(device) , data[1].to(device)\n",
        "        # zero the parameter gradients\n",
        "        optimizer.zero_grad()\n",
        "\n",
        "        # forward + backward + optimize\n",
        "        outputs = net(inputs) # 4 batch * 10 class_propability\n",
        "        loss = criterion(outputs, labels)\n",
        "        loss.backward()\n",
        "        optimizer.step()\n",
        "\n",
        "        #train loss and accuracy\n",
        "        running_loss += loss.item() * inputs.size(0)\n",
        "        correct += accurcy(outputs, labels)\n",
        "        total_batches += labels.size(0)\n",
        "\n",
        "    train_acc.append(correct / total_batches)\n",
        "    train_loss.append(running_loss / len(trainset))\n",
        "\n",
        "    t_loss, t_acc = evaluate()\n",
        "    test_acc.append(t_acc)\n",
        "    test_loss.append(t_loss)\n",
        "\n",
        "    print(f'{epoch + 1} / {EPOCHS} | train_loss: {(running_loss/len(trainset)):.4f} | test_loss: {t_loss:.2f}')\n",
        "    print(f'Train Accuracy: {(100 * train_acc[epoch]):.2f}% ')\n",
        "    print(f'Test Accuracy : {(100 * test_acc[epoch]):.2f}% ')\n",
        "    net.train()\n",
        "\n",
        "print('Finished Training')\n"
      ],
      "metadata": {
        "id": "tkqyk0RZAysj",
        "colab": {
          "base_uri": "https://localhost:8080/"
        },
        "outputId": "6a3caaab-f429-4622-a8ae-308b61058b57"
      },
      "execution_count": null,
      "outputs": [
        {
          "output_type": "stream",
          "name": "stdout",
          "text": [
            "1 / 70 | train_loss: 1.4878 | test_loss: 1.22\n",
            "Train Accuracy: 45.62% \n",
            "Test Accuracy : 55.73% \n",
            "2 / 70 | train_loss: 1.1590 | test_loss: 1.09\n",
            "Train Accuracy: 58.69% \n",
            "Test Accuracy : 61.65% \n",
            "3 / 70 | train_loss: 1.0336 | test_loss: 0.99\n",
            "Train Accuracy: 63.60% \n",
            "Test Accuracy : 64.52% \n",
            "4 / 70 | train_loss: 0.9613 | test_loss: 0.99\n",
            "Train Accuracy: 66.09% \n",
            "Test Accuracy : 65.07% \n",
            "5 / 70 | train_loss: 0.9072 | test_loss: 0.99\n",
            "Train Accuracy: 67.83% \n",
            "Test Accuracy : 65.75% \n",
            "6 / 70 | train_loss: 0.8625 | test_loss: 0.97\n",
            "Train Accuracy: 69.67% \n",
            "Test Accuracy : 67.17% \n",
            "7 / 70 | train_loss: 0.8351 | test_loss: 0.96\n",
            "Train Accuracy: 70.38% \n",
            "Test Accuracy : 66.46% \n",
            "8 / 70 | train_loss: 0.7992 | test_loss: 0.96\n",
            "Train Accuracy: 71.81% \n",
            "Test Accuracy : 66.85% \n",
            "9 / 70 | train_loss: 0.7780 | test_loss: 1.00\n",
            "Train Accuracy: 72.59% \n",
            "Test Accuracy : 66.75% \n",
            "10 / 70 | train_loss: 0.7505 | test_loss: 0.98\n",
            "Train Accuracy: 73.57% \n",
            "Test Accuracy : 67.81% \n",
            "11 / 70 | train_loss: 0.7331 | test_loss: 1.02\n",
            "Train Accuracy: 73.89% \n",
            "Test Accuracy : 67.57% \n",
            "12 / 70 | train_loss: 0.7082 | test_loss: 0.99\n",
            "Train Accuracy: 74.98% \n",
            "Test Accuracy : 67.71% \n",
            "13 / 70 | train_loss: 0.6941 | test_loss: 0.98\n",
            "Train Accuracy: 75.37% \n",
            "Test Accuracy : 68.12% \n",
            "14 / 70 | train_loss: 0.6841 | test_loss: 1.00\n",
            "Train Accuracy: 75.69% \n",
            "Test Accuracy : 67.37% \n",
            "15 / 70 | train_loss: 0.6686 | test_loss: 0.97\n",
            "Train Accuracy: 76.26% \n",
            "Test Accuracy : 67.34% \n",
            "16 / 70 | train_loss: 0.6491 | test_loss: 1.06\n",
            "Train Accuracy: 76.92% \n",
            "Test Accuracy : 67.46% \n",
            "17 / 70 | train_loss: 0.6402 | test_loss: 1.08\n",
            "Train Accuracy: 77.09% \n",
            "Test Accuracy : 67.36% \n",
            "18 / 70 | train_loss: 0.6242 | test_loss: 1.07\n",
            "Train Accuracy: 77.88% \n",
            "Test Accuracy : 66.72% \n",
            "19 / 70 | train_loss: 0.6128 | test_loss: 1.12\n",
            "Train Accuracy: 78.32% \n",
            "Test Accuracy : 65.87% \n",
            "20 / 70 | train_loss: 0.6026 | test_loss: 1.09\n",
            "Train Accuracy: 78.73% \n",
            "Test Accuracy : 66.77% \n",
            "21 / 70 | train_loss: 0.6000 | test_loss: 1.06\n",
            "Train Accuracy: 78.82% \n",
            "Test Accuracy : 67.52% \n",
            "22 / 70 | train_loss: 0.5854 | test_loss: 1.09\n",
            "Train Accuracy: 79.16% \n",
            "Test Accuracy : 67.34% \n",
            "23 / 70 | train_loss: 0.5754 | test_loss: 1.12\n",
            "Train Accuracy: 79.49% \n",
            "Test Accuracy : 67.22% \n",
            "24 / 70 | train_loss: 0.5722 | test_loss: 1.11\n",
            "Train Accuracy: 79.82% \n",
            "Test Accuracy : 67.87% \n",
            "25 / 70 | train_loss: 0.5603 | test_loss: 1.15\n",
            "Train Accuracy: 80.07% \n",
            "Test Accuracy : 68.02% \n",
            "26 / 70 | train_loss: 0.5475 | test_loss: 1.13\n",
            "Train Accuracy: 80.61% \n",
            "Test Accuracy : 66.72% \n",
            "27 / 70 | train_loss: 0.5405 | test_loss: 1.13\n",
            "Train Accuracy: 80.73% \n",
            "Test Accuracy : 67.51% \n",
            "28 / 70 | train_loss: 0.5422 | test_loss: 1.16\n",
            "Train Accuracy: 80.84% \n",
            "Test Accuracy : 67.60% \n"
          ]
        }
      ]
    },
    {
      "cell_type": "code",
      "source": [
        "# Plotting both the curves simultaneously\n",
        "plt.plot(train_loss, color='b', label='train_loss')\n",
        "plt.plot(test_loss, color='r', label='test_loss')\n",
        "\n",
        "# Naming the x-axis, y-axis and the whole graph\n",
        "plt.xlabel(\"EPOCHS\")\n",
        "plt.ylabel(\"LOSS\")\n",
        "plt.title(\"loss\")\n",
        "\n",
        "# Adding legend, which helps us recognize the curve according to it's color\n",
        "plt.legend()\n",
        "\n",
        "# To load the display window\n",
        "plt.show()"
      ],
      "metadata": {
        "id": "_1AE0_vqAysk"
      },
      "execution_count": null,
      "outputs": []
    },
    {
      "cell_type": "code",
      "source": [
        "# Plotting both the curves simultaneously\n",
        "plt.plot(train_acc, color='b', label='train_scc')\n",
        "plt.plot(test_acc, color='r', label='test_scc')\n",
        "\n",
        "# Naming the x-axis, y-axis and the whole graph\n",
        "plt.xlabel(\"EPOCHS\")\n",
        "plt.ylabel(\"ACCURACY\")\n",
        "plt.title(\"ACCURACY\")\n",
        "\n",
        "# Adding legend, which helps us recognize the curve according to it's color\n",
        "plt.legend()\n",
        "\n",
        "# To load the display window\n",
        "plt.show()"
      ],
      "metadata": {
        "id": "EMMkbKoTAysl"
      },
      "execution_count": null,
      "outputs": []
    },
    {
      "cell_type": "code",
      "source": [
        "\n",
        "from sklearn.metrics import confusion_matrix\n",
        "import seaborn as sn\n",
        "import pandas as pd\n",
        "\n",
        "y_pred = []\n",
        "y_true = []\n",
        "\n",
        "# iterate over test data\n",
        "for data in testloader:\n",
        "        inputs, labels = data[0].to(device) , data[1].to(device)\n",
        "        output = net(inputs) # Feed Network\n",
        "\n",
        "        output = (torch.max(torch.exp(output), 1)[1]).data.cpu().numpy()\n",
        "        y_pred.extend(output) # Save Prediction\n",
        "\n",
        "        labels = labels.data.cpu().numpy()\n",
        "        y_true.extend(labels) # Save Truth\n",
        "\n",
        "# Build confusion matrix\n",
        "cf_matrix = confusion_matrix(y_true, y_pred)\n",
        "df_cm = pd.DataFrame(cf_matrix / np.sum(cf_matrix, axis=1)[:, None], index = [i for i in classes],\n",
        "                     columns = [i for i in classes])\n",
        "plt.figure(figsize = (12,7))\n",
        "sn.heatmap(df_cm, annot=True)\n",
        "plt.savefig('output.png')"
      ],
      "metadata": {
        "id": "v_h6Gmc-Aysl"
      },
      "execution_count": null,
      "outputs": []
    },
    {
      "cell_type": "code",
      "source": [
        "\n",
        "def matrix(input, target):\n",
        "  recall = MulticlassRecall(num_classes=10)\n",
        "  precision = MulticlassPrecision(num_classes=10)\n",
        "  recall.update(input, target)\n",
        "  precision.update(input, target)\n",
        "\n",
        "  f1_score = multiclass_f1_score(input, target, num_classes = 10)\n",
        "  recall = precision.compute()\n",
        "  precision = precision.compute()\n",
        "  print(f1_score,recall,precision)\n",
        "  return f1_score,recall,precision"
      ],
      "metadata": {
        "id": "MMnLHH89i0R7"
      },
      "execution_count": null,
      "outputs": []
    },
    {
      "cell_type": "code",
      "source": [
        "f1_score,recall,precision = matrix(torch.tensor(y_true),torch.tensor(y_pred) )"
      ],
      "metadata": {
        "id": "PIXd85KSiy5a"
      },
      "execution_count": null,
      "outputs": []
    },
    {
      "cell_type": "markdown",
      "source": [
        "***NOTEs:***\n",
        "\n",
        "- cat and dog can't differentiate\n",
        "\n",
        "- cat and birds is the lowest"
      ],
      "metadata": {
        "id": "p2g_uTwiAysm"
      }
    },
    {
      "cell_type": "code",
      "source": [
        "# prepare to count predictions for each class\n",
        "correct_pred = {classname: 0 for classname in classes}\n",
        "total_pred = {classname: 0 for classname in classes}\n",
        "#https://sybernix.medium.com/drawing-loss-curves-for-deep-neural-network-training-in-pytorch-ac617b24c388\n",
        "\n",
        "# again no gradients needed\n",
        "with torch.no_grad():\n",
        "    for data in testloader:\n",
        "        images, labels = data[0].to(device)  , data[1].to(device)\n",
        "        outputs = net(images)\n",
        "        _, predictions = torch.max(outputs, 1)\n",
        "        # collect the correct predictions for each class\n",
        "        for label, pred in zip(labels, predictions):\n",
        "            if label == pred:\n",
        "                correct_pred[classes[label]] += 1\n",
        "            total_pred[classes[label]] += 1\n",
        "\n",
        "keys = []\n",
        "values = []\n",
        "# print accuracy for each class\n",
        "for classname, correct_count in correct_pred.items():\n",
        "    keys.append(classname), values.append(correct_count / total_pred[classname])\n",
        "    accuracy = 100 * float(correct_count) / total_pred[classname]\n",
        "    print(f'Accuracy for class {classname:5s} is {accuracy:.1f} %')"
      ],
      "metadata": {
        "id": "mreQHiwlAysm"
      },
      "execution_count": null,
      "outputs": []
    },
    {
      "cell_type": "code",
      "source": [
        "plt.barh(keys, values)\n",
        "plt.title('Accuracy for class')"
      ],
      "metadata": {
        "id": "IQCTJyigAysm"
      },
      "execution_count": null,
      "outputs": []
    },
    {
      "cell_type": "markdown",
      "source": [
        "## Human visualize test"
      ],
      "metadata": {
        "id": "Bo0zNUtEAysm"
      }
    },
    {
      "cell_type": "code",
      "source": [
        "dataiter = iter(testloader)\n",
        "images, labels = next(dataiter)\n",
        "NUM_SAMPLES = batch_size\n",
        "plt.figure(figsize=(10,10))\n",
        "for i in range(NUM_SAMPLES):\n",
        "    plt.subplot(4,4,i+1)\n",
        "    plt.imshow((images[i] / 2 + 0.5).permute(1, 2, 0) ) #chnage the indexes 32×32×3\n",
        "    plt.title('label: {}'.format(classes[labels[i]]))\n",
        "    plt.axis('off')"
      ],
      "metadata": {
        "id": "C-EwStIZAysn"
      },
      "execution_count": null,
      "outputs": []
    },
    {
      "cell_type": "code",
      "source": [
        "_, predicted = torch.max(outputs, 1)\n",
        "print('GroundTruth:', ' | '.join(f'{classes[labels[j]]:5s}' for j in range(len(images))))\n",
        "print('Predicted:  ', ' | '.join(f'{classes[predicted[j]]:5s}'\n",
        "                              for j in range(len(predicted))))"
      ],
      "metadata": {
        "id": "mDMk8sdvAysn"
      },
      "execution_count": null,
      "outputs": []
    },
    {
      "cell_type": "markdown",
      "source": [
        "# Traials"
      ],
      "metadata": {
        "id": "C5iYB7Axiiy8"
      }
    },
    {
      "cell_type": "markdown",
      "source": [
        "## Simple models"
      ],
      "metadata": {
        "id": "yDs7AXGGyDMU"
      }
    },
    {
      "cell_type": "code",
      "source": [
        "#Simple model1\n",
        "class Simple_model1(nn.Module):\n",
        "    def __init__(self):\n",
        "        super().__init__()\n",
        "        self.conv1 = nn.Conv2d(3, 6, 3, padding  = 1) #32\n",
        "        self.conv2 = nn.Conv2d(6, 16, 3,  padding  = 1) #32\n",
        "        self.pool = nn.MaxPool2d(2, 2) #16\n",
        "\n",
        "        self.conv3 = nn.Conv2d(16, 32, 3, padding  = 1) #16\n",
        "        self.conv4 = nn.Conv2d(32, 32, 3,  padding  = 1) #16\n",
        "       # self.pool  #8\n",
        "\n",
        "        self.fc1 = nn.Linear(32 * 8 * 8, 120)\n",
        "        self.fc2 = nn.Linear(120, 64)\n",
        "        self.fc3 = nn.Linear(64, 10)\n",
        "\n",
        "    def forward(self, x):\n",
        "        x = F.relu(self.conv1(x))\n",
        "        x = self.pool(F.relu(self.conv2(x)))\n",
        "\n",
        "        x = F.relu(self.conv3(x))\n",
        "        x = self.pool(F.relu(self.conv4(x)))\n",
        "\n",
        "        x = torch.flatten(x, 1) # flatten all dimensions except batch\n",
        "        x = F.relu(self.fc1(x))\n",
        "        x = F.relu(self.fc2(x))\n",
        "        x = self.fc3(x)\n",
        "        return x\n",
        "\n",
        "\n",
        "net = Simple_model1().to(device)\n",
        "#calc parameters\n",
        "total_params = sum(p.numel() for p in net.parameters())\n",
        "total_trainable_params = sum(p.numel() for p in net.parameters() if p.requires_grad)\n",
        "print(f\"Total number of parameters: {total_params}\")\n",
        "print(f\"Total number of trainable parameters: {total_trainable_params}\")\n"
      ],
      "metadata": {
        "id": "ZvD4J0vAQq3k",
        "colab": {
          "base_uri": "https://localhost:8080/"
        },
        "outputId": "cb40b89f-8678-4a8b-f391-f36a33e3ff4a"
      },
      "execution_count": null,
      "outputs": [
        {
          "output_type": "stream",
          "name": "stdout",
          "text": [
            "Total number of parameters: 269210\n",
            "Total number of trainable parameters: 269210\n"
          ]
        }
      ]
    },
    {
      "cell_type": "code",
      "source": [
        "#Simple model2 -> REMOVE LAYER\n",
        "class Net(nn.Module):\n",
        "    def __init__(self):\n",
        "        super().__init__()\n",
        "        self.conv1 = nn.Conv2d(3, 6, 3, padding  = 1) #32\n",
        "        self.conv2 = nn.Conv2d(6, 16, 3,  padding  = 1) #32\n",
        "        self.pool = nn.MaxPool2d(2, 2) #16\n",
        "\n",
        "        self.conv3 = nn.Conv2d(16, 32, 3, padding  = 1) #16\n",
        "        self.conv4 = nn.Conv2d(32, 32, 3,  padding  = 1) #16\n",
        "       # self.pool  #8\n",
        "\n",
        "        self.fc1 = nn.Linear(32 * 8 * 8, 120)\n",
        "        self.fc2 = nn.Linear(120, 10)\n",
        "\n",
        "    def forward(self, x):\n",
        "        x = F.relu(self.conv1(x))\n",
        "        x = self.pool(F.relu(self.conv2(x)))\n",
        "\n",
        "        x = F.relu(self.conv3(x))\n",
        "        x = self.pool(F.relu(self.conv4(x)))\n",
        "\n",
        "        x = torch.flatten(x, 1) # flatten all dimensions except batch\n",
        "        x = F.relu(self.fc1(x))\n",
        "        x = self.fc2(x)\n",
        "        return x\n",
        "\n",
        "\n",
        "net = Net().to(device)\n",
        "#calc parameters\n",
        "total_params = sum(p.numel() for p in net.parameters())\n",
        "total_trainable_params = sum(p.numel() for p in net.parameters() if p.requires_grad)\n",
        "\n",
        "print(f\"Total number of parameters: {total_params}\")\n",
        "print(f\"Total number of trainable parameters: {total_trainable_params}\")\n"
      ],
      "metadata": {
        "colab": {
          "base_uri": "https://localhost:8080/"
        },
        "id": "FOmSr-JqZWtB",
        "outputId": "6ff5b0c0-6ee4-4cf2-aa6e-b495637dfc44"
      },
      "execution_count": null,
      "outputs": [
        {
          "output_type": "stream",
          "name": "stdout",
          "text": [
            "Total number of parameters: 262314\n",
            "Total number of trainable parameters: 262314\n"
          ]
        }
      ]
    },
    {
      "cell_type": "code",
      "source": [
        "import torch.optim as optim\n",
        "\n",
        "criterion = nn.CrossEntropyLoss()\n",
        "#optimizer = optim.SGD(net.parameters(), lr=0.01, momentum=0.9)\n",
        "optimizer = optim.Adam(net.parameters(), lr=0.001)"
      ],
      "metadata": {
        "id": "OwGkHIBpRCBp"
      },
      "execution_count": null,
      "outputs": []
    },
    {
      "cell_type": "code",
      "source": [
        "# the class with the highest energy is what we choose as prediction\n",
        "def accurcy(outputs, labels):\n",
        "    _, pred = torch.max(outputs.data, 1)\n",
        "    return ((pred == labels).sum().item())"
      ],
      "metadata": {
        "id": "JrapWOV7So1Q"
      },
      "execution_count": null,
      "outputs": []
    },
    {
      "cell_type": "code",
      "source": [
        "def evaluate():\n",
        "    correct = 0\n",
        "    total = 0\n",
        "    running_loss = 0.0\n",
        "    # since we're not training, we don't need to calculate the gradients for our outputs\n",
        "    with torch.no_grad():\n",
        "        for data in testloader:\n",
        "            images, labels = data[0].to(device) , data[1].to(device)\n",
        "            # calculate outputs by running images through the network\n",
        "            outputs = net(images)\n",
        "            loss = criterion(outputs, labels)\n",
        "            running_loss += loss.item() * images.size(0)\n",
        "\n",
        "            correct += accurcy(outputs, labels)\n",
        "            total += labels.size(0)\n",
        "    return (running_loss/len(testset)) , (correct / total)\n"
      ],
      "metadata": {
        "id": "D1FUnWCESzup"
      },
      "execution_count": null,
      "outputs": []
    },
    {
      "cell_type": "code",
      "source": [
        "train_loss = []\n",
        "test_loss = []\n",
        "train_acc = []\n",
        "test_acc = []\n",
        "\n",
        "for epoch in range(EPOCHS):  # loop over the dataset multiple times\n",
        "\n",
        "    correct = 0.0\n",
        "    total_batches = 0\n",
        "    running_loss = 0.0\n",
        "\n",
        "    for i, data in enumerate(trainloader, 0):\n",
        "        # get the inputs; data is a list of [inputs, labels]\n",
        "        inputs, labels = data[0].to(device) , data[1].to(device)\n",
        "        # zero the parameter gradients\n",
        "        optimizer.zero_grad()\n",
        "\n",
        "        # forward + backward + optimize\n",
        "        outputs = net(inputs) # 4 batch * 10 class_propability\n",
        "        loss = criterion(outputs, labels)\n",
        "        loss.backward()\n",
        "        optimizer.step()\n",
        "\n",
        "        #train loss and accuracy\n",
        "        running_loss += loss.item() * inputs.size(0)\n",
        "        correct += accurcy(outputs, labels)\n",
        "        total_batches += labels.size(0)\n",
        "\n",
        "    train_acc.append(correct / total_batches)\n",
        "    train_loss.append(running_loss / len(trainset))\n",
        "\n",
        "    t_loss, t_acc = evaluate()\n",
        "    test_acc.append(t_acc)\n",
        "    test_loss.append(t_loss)\n",
        "\n",
        "    print(f'{epoch + 1} / {EPOCHS} | train_loss: {(running_loss/len(trainset)):.4f} | test_loss: {t_loss:.2f}')\n",
        "    print(f'Train Accuracy: {(100 * train_acc[epoch]):.2f}% ')\n",
        "    print(f'Test Accuracy : {(100 * test_acc[epoch]):.2f}% ')\n",
        "    net.train()\n",
        "\n",
        "print('Finished Training')\n"
      ],
      "metadata": {
        "colab": {
          "base_uri": "https://localhost:8080/"
        },
        "id": "9ZaYclLcRE55",
        "outputId": "0ec9510e-5fee-448d-cad3-447bd3cc6f9c"
      },
      "execution_count": null,
      "outputs": [
        {
          "output_type": "stream",
          "name": "stdout",
          "text": [
            "1 / 70 | train_loss: 1.3748 | test_loss: 1.08\n",
            "Train Accuracy: 50.45% \n",
            "Test Accuracy : 61.59% \n",
            "2 / 70 | train_loss: 1.0040 | test_loss: 0.95\n",
            "Train Accuracy: 64.62% \n",
            "Test Accuracy : 67.15% \n",
            "3 / 70 | train_loss: 0.8592 | test_loss: 0.92\n",
            "Train Accuracy: 69.92% \n",
            "Test Accuracy : 68.31% \n",
            "4 / 70 | train_loss: 0.7568 | test_loss: 0.98\n",
            "Train Accuracy: 73.52% \n",
            "Test Accuracy : 67.36% \n",
            "5 / 70 | train_loss: 0.6821 | test_loss: 0.92\n",
            "Train Accuracy: 75.90% \n",
            "Test Accuracy : 69.48% \n",
            "6 / 70 | train_loss: 0.6193 | test_loss: 0.96\n",
            "Train Accuracy: 78.04% \n",
            "Test Accuracy : 69.72% \n",
            "7 / 70 | train_loss: 0.5656 | test_loss: 0.99\n",
            "Train Accuracy: 80.01% \n",
            "Test Accuracy : 69.15% \n",
            "8 / 70 | train_loss: 0.5164 | test_loss: 1.07\n",
            "Train Accuracy: 81.61% \n",
            "Test Accuracy : 69.34% \n",
            "9 / 70 | train_loss: 0.4731 | test_loss: 1.19\n",
            "Train Accuracy: 83.16% \n",
            "Test Accuracy : 67.33% \n",
            "10 / 70 | train_loss: 0.4318 | test_loss: 1.22\n",
            "Train Accuracy: 84.76% \n",
            "Test Accuracy : 67.75% \n",
            "11 / 70 | train_loss: 0.3964 | test_loss: 1.33\n",
            "Train Accuracy: 85.83% \n",
            "Test Accuracy : 66.17% \n",
            "12 / 70 | train_loss: 0.3752 | test_loss: 1.32\n",
            "Train Accuracy: 86.74% \n",
            "Test Accuracy : 67.27% \n",
            "13 / 70 | train_loss: 0.3490 | test_loss: 1.33\n",
            "Train Accuracy: 87.85% \n",
            "Test Accuracy : 67.67% \n",
            "14 / 70 | train_loss: 0.3277 | test_loss: 1.51\n",
            "Train Accuracy: 88.59% \n",
            "Test Accuracy : 66.17% \n",
            "15 / 70 | train_loss: 0.3051 | test_loss: 1.60\n",
            "Train Accuracy: 89.12% \n",
            "Test Accuracy : 66.60% \n",
            "16 / 70 | train_loss: 0.2966 | test_loss: 1.69\n",
            "Train Accuracy: 89.75% \n",
            "Test Accuracy : 66.97% \n",
            "17 / 70 | train_loss: 0.2855 | test_loss: 1.84\n",
            "Train Accuracy: 90.07% \n",
            "Test Accuracy : 66.51% \n",
            "18 / 70 | train_loss: 0.2778 | test_loss: 1.86\n",
            "Train Accuracy: 90.50% \n",
            "Test Accuracy : 66.15% \n",
            "19 / 70 | train_loss: 0.2604 | test_loss: 1.85\n",
            "Train Accuracy: 91.05% \n",
            "Test Accuracy : 66.63% \n",
            "20 / 70 | train_loss: 0.2607 | test_loss: 1.89\n",
            "Train Accuracy: 91.21% \n",
            "Test Accuracy : 66.90% \n",
            "21 / 70 | train_loss: 0.2501 | test_loss: 1.93\n",
            "Train Accuracy: 91.55% \n",
            "Test Accuracy : 66.16% \n",
            "22 / 70 | train_loss: 0.2428 | test_loss: 2.02\n",
            "Train Accuracy: 91.87% \n",
            "Test Accuracy : 66.96% \n",
            "23 / 70 | train_loss: 0.2423 | test_loss: 2.09\n",
            "Train Accuracy: 91.93% \n",
            "Test Accuracy : 66.26% \n",
            "24 / 70 | train_loss: 0.2304 | test_loss: 2.23\n",
            "Train Accuracy: 92.37% \n",
            "Test Accuracy : 65.56% \n",
            "25 / 70 | train_loss: 0.2291 | test_loss: 2.15\n",
            "Train Accuracy: 92.26% \n",
            "Test Accuracy : 66.20% \n",
            "26 / 70 | train_loss: 0.2247 | test_loss: 2.32\n",
            "Train Accuracy: 92.67% \n",
            "Test Accuracy : 66.82% \n",
            "27 / 70 | train_loss: 0.2273 | test_loss: 2.23\n",
            "Train Accuracy: 92.65% \n",
            "Test Accuracy : 65.66% \n",
            "28 / 70 | train_loss: 0.2167 | test_loss: 2.25\n",
            "Train Accuracy: 92.94% \n",
            "Test Accuracy : 66.70% \n",
            "29 / 70 | train_loss: 0.2177 | test_loss: 2.31\n",
            "Train Accuracy: 93.11% \n",
            "Test Accuracy : 66.25% \n",
            "30 / 70 | train_loss: 0.2135 | test_loss: 2.58\n",
            "Train Accuracy: 93.21% \n",
            "Test Accuracy : 65.93% \n",
            "31 / 70 | train_loss: 0.2195 | test_loss: 2.44\n",
            "Train Accuracy: 93.03% \n",
            "Test Accuracy : 65.83% \n",
            "32 / 70 | train_loss: 0.2114 | test_loss: 2.45\n",
            "Train Accuracy: 93.29% \n",
            "Test Accuracy : 66.51% \n",
            "33 / 70 | train_loss: 0.2135 | test_loss: 2.58\n",
            "Train Accuracy: 93.26% \n",
            "Test Accuracy : 65.54% \n",
            "34 / 70 | train_loss: 0.2130 | test_loss: 2.48\n",
            "Train Accuracy: 93.36% \n",
            "Test Accuracy : 65.67% \n",
            "35 / 70 | train_loss: 0.2038 | test_loss: 2.56\n",
            "Train Accuracy: 93.67% \n",
            "Test Accuracy : 65.69% \n",
            "36 / 70 | train_loss: 0.2074 | test_loss: 2.60\n",
            "Train Accuracy: 93.60% \n",
            "Test Accuracy : 66.07% \n",
            "37 / 70 | train_loss: 0.1989 | test_loss: 2.59\n",
            "Train Accuracy: 93.80% \n",
            "Test Accuracy : 66.14% \n",
            "38 / 70 | train_loss: 0.2067 | test_loss: 2.75\n",
            "Train Accuracy: 93.75% \n",
            "Test Accuracy : 65.64% \n",
            "39 / 70 | train_loss: 0.1983 | test_loss: 2.80\n",
            "Train Accuracy: 93.93% \n",
            "Test Accuracy : 65.88% \n",
            "40 / 70 | train_loss: 0.2038 | test_loss: 2.92\n",
            "Train Accuracy: 93.87% \n",
            "Test Accuracy : 65.85% \n",
            "41 / 70 | train_loss: 0.1984 | test_loss: 3.01\n",
            "Train Accuracy: 94.09% \n",
            "Test Accuracy : 64.86% \n",
            "42 / 70 | train_loss: 0.2038 | test_loss: 2.72\n",
            "Train Accuracy: 93.81% \n",
            "Test Accuracy : 66.24% \n",
            "43 / 70 | train_loss: 0.1992 | test_loss: 2.87\n",
            "Train Accuracy: 94.07% \n",
            "Test Accuracy : 66.55% \n",
            "44 / 70 | train_loss: 0.1983 | test_loss: 3.01\n",
            "Train Accuracy: 94.10% \n",
            "Test Accuracy : 65.81% \n",
            "45 / 70 | train_loss: 0.2003 | test_loss: 2.92\n",
            "Train Accuracy: 94.06% \n",
            "Test Accuracy : 65.72% \n",
            "46 / 70 | train_loss: 0.1927 | test_loss: 2.93\n",
            "Train Accuracy: 94.44% \n",
            "Test Accuracy : 66.17% \n",
            "47 / 70 | train_loss: 0.1985 | test_loss: 2.94\n",
            "Train Accuracy: 94.27% \n",
            "Test Accuracy : 65.95% \n",
            "48 / 70 | train_loss: 0.1967 | test_loss: 2.95\n",
            "Train Accuracy: 94.23% \n",
            "Test Accuracy : 65.97% \n",
            "49 / 70 | train_loss: 0.1996 | test_loss: 2.82\n",
            "Train Accuracy: 94.22% \n",
            "Test Accuracy : 65.78% \n",
            "50 / 70 | train_loss: 0.1882 | test_loss: 3.20\n",
            "Train Accuracy: 94.55% \n",
            "Test Accuracy : 65.66% \n",
            "51 / 70 | train_loss: 0.1920 | test_loss: 2.98\n",
            "Train Accuracy: 94.46% \n",
            "Test Accuracy : 66.11% \n",
            "52 / 70 | train_loss: 0.1928 | test_loss: 3.09\n",
            "Train Accuracy: 94.42% \n",
            "Test Accuracy : 65.62% \n",
            "53 / 70 | train_loss: 0.1951 | test_loss: 3.25\n",
            "Train Accuracy: 94.29% \n",
            "Test Accuracy : 65.27% \n",
            "54 / 70 | train_loss: 0.1875 | test_loss: 3.28\n",
            "Train Accuracy: 94.56% \n",
            "Test Accuracy : 64.96% \n",
            "55 / 70 | train_loss: 0.1934 | test_loss: 3.30\n",
            "Train Accuracy: 94.43% \n",
            "Test Accuracy : 65.51% \n",
            "56 / 70 | train_loss: 0.1929 | test_loss: 3.28\n",
            "Train Accuracy: 94.67% \n",
            "Test Accuracy : 65.10% \n",
            "57 / 70 | train_loss: 0.1876 | test_loss: 3.41\n",
            "Train Accuracy: 94.82% \n",
            "Test Accuracy : 65.53% \n",
            "58 / 70 | train_loss: 0.1961 | test_loss: 3.30\n",
            "Train Accuracy: 94.51% \n",
            "Test Accuracy : 66.02% \n",
            "59 / 70 | train_loss: 0.1899 | test_loss: 3.56\n",
            "Train Accuracy: 94.78% \n",
            "Test Accuracy : 65.03% \n",
            "60 / 70 | train_loss: 0.1989 | test_loss: 3.36\n",
            "Train Accuracy: 94.46% \n",
            "Test Accuracy : 66.00% \n",
            "61 / 70 | train_loss: 0.1881 | test_loss: 3.48\n",
            "Train Accuracy: 94.72% \n",
            "Test Accuracy : 65.92% \n",
            "62 / 70 | train_loss: 0.1844 | test_loss: 3.38\n",
            "Train Accuracy: 94.87% \n",
            "Test Accuracy : 65.37% \n",
            "63 / 70 | train_loss: 0.1925 | test_loss: 3.48\n",
            "Train Accuracy: 94.76% \n",
            "Test Accuracy : 66.05% \n",
            "64 / 70 | train_loss: 0.1966 | test_loss: 3.46\n",
            "Train Accuracy: 94.71% \n",
            "Test Accuracy : 66.31% \n",
            "65 / 70 | train_loss: 0.1921 | test_loss: 4.02\n",
            "Train Accuracy: 94.85% \n",
            "Test Accuracy : 64.99% \n",
            "66 / 70 | train_loss: 0.1871 | test_loss: 3.50\n",
            "Train Accuracy: 94.94% \n",
            "Test Accuracy : 65.90% \n",
            "67 / 70 | train_loss: 0.1878 | test_loss: 3.60\n",
            "Train Accuracy: 94.89% \n",
            "Test Accuracy : 65.67% \n",
            "68 / 70 | train_loss: 0.1889 | test_loss: 3.72\n",
            "Train Accuracy: 94.87% \n",
            "Test Accuracy : 65.23% \n",
            "69 / 70 | train_loss: 0.1991 | test_loss: 3.80\n",
            "Train Accuracy: 94.65% \n",
            "Test Accuracy : 65.67% \n",
            "70 / 70 | train_loss: 0.1926 | test_loss: 3.61\n",
            "Train Accuracy: 94.80% \n",
            "Test Accuracy : 65.68% \n",
            "Finished Training\n"
          ]
        }
      ]
    },
    {
      "cell_type": "code",
      "source": [
        "# Plotting both the curves simultaneously\n",
        "plt.plot(train_loss, color='b', label='train_loss')\n",
        "plt.plot(test_loss, color='r', label='test_loss')\n",
        "\n",
        "# Naming the x-axis, y-axis and the whole graph\n",
        "plt.xlabel(\"EPOCHS\")\n",
        "plt.ylabel(\"LOSS\")\n",
        "plt.title(\"loss\")\n",
        "\n",
        "# Adding legend, which helps us recognize the curve according to it's color\n",
        "plt.legend()\n",
        "\n",
        "# To load the display window\n",
        "plt.show()"
      ],
      "metadata": {
        "colab": {
          "base_uri": "https://localhost:8080/",
          "height": 472
        },
        "id": "4ECl6Slp5s6z",
        "outputId": "f814db72-9710-466b-ad69-942154f0b23d"
      },
      "execution_count": null,
      "outputs": [
        {
          "output_type": "display_data",
          "data": {
            "text/plain": [
              "<Figure size 640x480 with 1 Axes>"
            ],
            "image/png": "[encoded data removed]"
          },
          "metadata": {}
        }
      ]
    },
    {
      "cell_type": "code",
      "source": [
        "# Plotting both the curves simultaneously\n",
        "plt.plot(train_acc, color='b', label='train_scc')\n",
        "plt.plot(test_acc, color='r', label='test_scc')\n",
        "\n",
        "# Naming the x-axis, y-axis and the whole graph\n",
        "plt.xlabel(\"EPOCHS\")\n",
        "plt.ylabel(\"ACCURACY\")\n",
        "plt.title(\"ACCURACY\")\n",
        "\n",
        "# Adding legend, which helps us recognize the curve according to it's color\n",
        "plt.legend()\n",
        "\n",
        "# To load the display window\n",
        "plt.show()"
      ],
      "metadata": {
        "colab": {
          "base_uri": "https://localhost:8080/",
          "height": 472
        },
        "id": "A061bvNp6NdM",
        "outputId": "31f8b460-0c5a-45e7-a0d6-bcdc62d09720"
      },
      "execution_count": null,
      "outputs": [
        {
          "output_type": "display_data",
          "data": {
            "text/plain": [
              "<Figure size 640x480 with 1 Axes>"
            ],
            "image/png": "[encoded data removed]"
          },
          "metadata": {}
        }
      ]
    },
    {
      "cell_type": "code",
      "source": [
        "\n",
        "from sklearn.metrics import confusion_matrix\n",
        "import seaborn as sn\n",
        "import pandas as pd\n",
        "\n",
        "y_pred = []\n",
        "y_true = []\n",
        "\n",
        "# iterate over test data\n",
        "for data in testloader:\n",
        "        inputs, labels = data[0].to(device) , data[1].to(device)\n",
        "        output = net(inputs) # Feed Network\n",
        "\n",
        "        output = (torch.max(torch.exp(output), 1)[1]).data.cpu().numpy()\n",
        "        y_pred.extend(output) # Save Prediction\n",
        "\n",
        "        labels = labels.data.cpu().numpy()\n",
        "        y_true.extend(labels) # Save Truth\n",
        "\n",
        "# Build confusion matrix\n",
        "cf_matrix = confusion_matrix(y_true, y_pred)\n",
        "df_cm = pd.DataFrame(cf_matrix / np.sum(cf_matrix, axis=1)[:, None], index = [i for i in classes],\n",
        "                     columns = [i for i in classes])\n",
        "plt.figure(figsize = (12,7))\n",
        "sn.heatmap(df_cm, annot=True)\n",
        "plt.savefig('output.png')"
      ],
      "metadata": {
        "id": "O_5nJR8kgkzC",
        "colab": {
          "base_uri": "https://localhost:8080/",
          "height": 599
        },
        "outputId": "bd5ef038-eacf-4ed4-b6d9-6588f5678dc7"
      },
      "execution_count": null,
      "outputs": [
        {
          "output_type": "display_data",
          "data": {
            "text/plain": [
              "<Figure size 1200x700 with 2 Axes>"
            ],
            "image/png": "[encoded data removed]"
          },
          "metadata": {}
        }
      ]
    },
    {
      "cell_type": "markdown",
      "source": [
        "***NOTEs:***\n",
        "\n",
        "- cat and dog can't differentiate\n",
        "\n",
        "- cat and birds is the lowest"
      ],
      "metadata": {
        "id": "_XH7X_BYBZmH"
      }
    },
    {
      "cell_type": "code",
      "source": [
        "# prepare to count predictions for each class\n",
        "correct_pred = {classname: 0 for classname in classes}\n",
        "total_pred = {classname: 0 for classname in classes}\n",
        "#https://sybernix.medium.com/drawing-loss-curves-for-deep-neural-network-training-in-pytorch-ac617b24c388\n",
        "\n",
        "# again no gradients needed\n",
        "with torch.no_grad():\n",
        "    for data in testloader:\n",
        "        images, labels = data[0].to(device)  , data[1].to(device)\n",
        "        outputs = net(images)\n",
        "        _, predictions = torch.max(outputs, 1)\n",
        "        # collect the correct predictions for each class\n",
        "        for label, pred in zip(labels, predictions):\n",
        "            if label == pred:\n",
        "                correct_pred[classes[label]] += 1\n",
        "            total_pred[classes[label]] += 1\n",
        "\n",
        "keys = []\n",
        "values = []\n",
        "# print accuracy for each class\n",
        "for classname, correct_count in correct_pred.items():\n",
        "    keys.append(classname), values.append(correct_count / total_pred[classname])\n",
        "    accuracy = 100 * float(correct_count) / total_pred[classname]\n",
        "    print(f'Accuracy for class {classname:5s} is {accuracy:.1f} %')"
      ],
      "metadata": {
        "id": "LCXfaSCLTD9I",
        "colab": {
          "base_uri": "https://localhost:8080/"
        },
        "outputId": "47d3b72f-c326-4ae2-a52a-42026efaa266"
      },
      "execution_count": null,
      "outputs": [
        {
          "output_type": "stream",
          "name": "stdout",
          "text": [
            "Accuracy for class plane is 67.1 %\n",
            "Accuracy for class car   is 82.1 %\n",
            "Accuracy for class bird  is 50.5 %\n",
            "Accuracy for class cat   is 43.6 %\n",
            "Accuracy for class deer  is 56.6 %\n",
            "Accuracy for class dog   is 52.6 %\n",
            "Accuracy for class frog  is 72.3 %\n",
            "Accuracy for class horse is 73.4 %\n",
            "Accuracy for class ship  is 78.5 %\n",
            "Accuracy for class truck is 80.1 %\n"
          ]
        }
      ]
    },
    {
      "cell_type": "code",
      "source": [
        "plt.barh(keys, values)\n",
        "plt.title('Accuracy for class')"
      ],
      "metadata": {
        "colab": {
          "base_uri": "https://localhost:8080/",
          "height": 469
        },
        "id": "qIEFRAPRBsWa",
        "outputId": "46c87c2d-979a-48f5-b0a4-5be903aeeda4"
      },
      "execution_count": null,
      "outputs": [
        {
          "output_type": "execute_result",
          "data": {
            "text/plain": [
              "Text(0.5, 1.0, 'Accuracy for class')"
            ]
          },
          "metadata": {},
          "execution_count": 22
        },
        {
          "output_type": "display_data",
          "data": {
            "text/plain": [
              "<Figure size 640x480 with 1 Axes>"
            ],
            "image/png": "[encoded data removed]"
          },
          "metadata": {}
        }
      ]
    },
    {
      "cell_type": "markdown",
      "source": [],
      "metadata": {
        "id": "IvxRKbLWlaXR"
      }
    },
    {
      "cell_type": "markdown",
      "source": [
        "## Simple model DROPOUUT"
      ],
      "metadata": {
        "id": "2vQCckiPl3OG"
      }
    },
    {
      "cell_type": "code",
      "source": [
        "#Simple_dropout -> dropout 0.2\n",
        "class Simple_dropout(nn.Module):\n",
        "    def __init__(self):\n",
        "        super().__init__()\n",
        "        self.conv1 = nn.Conv2d(3, 6, 5, padding  = 2) #64\n",
        "        self.conv2 = nn.Conv2d(6, 16, 3,  padding  = 1) #64\n",
        "        self.pool = nn.MaxPool2d(2, 2) #32\n",
        "        self.dropout = nn.Dropout(0.2)\n",
        "        self.conv3 = nn.Conv2d(16, 32, 3, padding  = 1) #16\n",
        "        self.conv4 = nn.Conv2d(32, 32, 3,  padding  = 1) #16\n",
        "       # self.pool  #16\n",
        "\n",
        "        self.fc1 = nn.Linear(32 * 16 * 16, 120)\n",
        "        self.fc2 = nn.Linear(120, 10)\n",
        "\n",
        "    def forward(self, x):\n",
        "        x = F.relu(self.conv1(x))\n",
        "        x = self.pool(F.relu(self.conv2(x)))\n",
        "        x = F.relu(self.conv3(x))\n",
        "        x = self.pool(F.relu(self.conv4(x)))\n",
        "\n",
        "        x = torch.flatten(x, 1) # flatten all dimensions except batch\n",
        "        x = F.relu(self.fc1(x))\n",
        "        x = self.dropout(x)\n",
        "\n",
        "        x = self.fc2(x)\n",
        "        return x\n",
        "\n",
        "\n",
        "net = Simple_dropout().to(device)\n",
        "#calc parameters\n",
        "total_params = sum(p.numel() for p in net.parameters())\n",
        "total_trainable_params = sum(p.numel() for p in net.parameters() if p.requires_grad)\n",
        "\n",
        "print(f\"Total nuber of parameters: {total_params}\")\n",
        "print(f\"Total number of trainable parameters: {total_trainable_params}\")\n"
      ],
      "metadata": {
        "colab": {
          "base_uri": "https://localhost:8080/"
        },
        "outputId": "37e48bc4-3ccf-4c94-f909-d431ed62fc8d",
        "id": "cvCLVQSJl3OH"
      },
      "execution_count": null,
      "outputs": [
        {
          "output_type": "stream",
          "name": "stdout",
          "text": [
            "Total number of parameters: 999594\n",
            "Total number of trainable parameters: 999594\n"
          ]
        }
      ]
    },
    {
      "cell_type": "code",
      "source": [
        "train_loss = []\n",
        "test_loss = []\n",
        "train_acc = []\n",
        "test_acc = []\n",
        "\n",
        "for epoch in range(EPOCHS):  # loop over the dataset multiple times\n",
        "\n",
        "    correct = 0.0\n",
        "    total_batches = 0\n",
        "    running_loss = 0.0\n",
        "\n",
        "    for i, data in enumerate(trainloader, 0):\n",
        "        # get the inputs; data is a list of [inputs, labels]\n",
        "        inputs, labels = data[0].to(device) , data[1].to(device)\n",
        "        # zero the parameter gradients\n",
        "        optimizer.zero_grad()\n",
        "\n",
        "        # forward + backward + optimize\n",
        "        outputs = net(inputs) # 4 batch * 10 class_propability\n",
        "        loss = criterion(outputs, labels)\n",
        "        loss.backward()\n",
        "        optimizer.step()\n",
        "\n",
        "        #train loss and accuracy\n",
        "        running_loss += loss.item() * inputs.size(0)\n",
        "        correct += accurcy(outputs, labels)\n",
        "        total_batches += labels.size(0)\n",
        "\n",
        "    train_acc.append(correct / total_batches)\n",
        "    train_loss.append(running_loss / len(trainset))\n",
        "\n",
        "    t_loss, t_acc = evaluate()\n",
        "    test_acc.append(t_acc)\n",
        "    test_loss.append(t_loss)\n",
        "\n",
        "    print(f'{epoch + 1} / {EPOCHS} | train_loss: {(running_loss/len(trainset)):.4f} | test_loss: {t_loss:.2f}')\n",
        "    print(f'Train Accuracy: {(100 * train_acc[epoch]):.2f}% ')\n",
        "    print(f'Test Accuracy : {(100 * test_acc[epoch]):.2f}% ')\n",
        "    net.train()\n",
        "\n",
        "print('Finished Training')\n"
      ],
      "metadata": {
        "colab": {
          "base_uri": "https://localhost:8080/"
        },
        "outputId": "bde37592-8b17-41ec-c650-61c19e8b2d55",
        "id": "GWIR_-0bl3OI"
      },
      "execution_count": null,
      "outputs": [
        {
          "output_type": "stream",
          "name": "stdout",
          "text": [
            "1 / 70 | train_loss: 1.4654 | test_loss: 1.26\n",
            "Train Accuracy: 46.60% \n",
            "Test Accuracy : 54.28% \n",
            "2 / 70 | train_loss: 1.1575 | test_loss: 1.11\n",
            "Train Accuracy: 58.59% \n",
            "Test Accuracy : 60.90% \n",
            "3 / 70 | train_loss: 1.0479 | test_loss: 1.12\n",
            "Train Accuracy: 62.91% \n",
            "Test Accuracy : 61.30% \n",
            "4 / 70 | train_loss: 0.9904 | test_loss: 1.12\n",
            "Train Accuracy: 65.08% \n",
            "Test Accuracy : 62.46% \n",
            "5 / 70 | train_loss: 0.9490 | test_loss: 1.02\n",
            "Train Accuracy: 66.52% \n",
            "Test Accuracy : 64.57% \n",
            "6 / 70 | train_loss: 0.9150 | test_loss: 1.02\n",
            "Train Accuracy: 67.59% \n",
            "Test Accuracy : 65.43% \n",
            "7 / 70 | train_loss: 0.8955 | test_loss: 1.03\n",
            "Train Accuracy: 68.38% \n",
            "Test Accuracy : 64.73% \n",
            "8 / 70 | train_loss: 0.8729 | test_loss: 0.99\n",
            "Train Accuracy: 69.26% \n",
            "Test Accuracy : 66.02% \n",
            "9 / 70 | train_loss: 0.8566 | test_loss: 0.99\n",
            "Train Accuracy: 69.71% \n",
            "Test Accuracy : 66.05% \n",
            "10 / 70 | train_loss: 0.8434 | test_loss: 0.98\n",
            "Train Accuracy: 70.28% \n",
            "Test Accuracy : 65.75% \n",
            "11 / 70 | train_loss: 0.8330 | test_loss: 0.99\n",
            "Train Accuracy: 70.42% \n",
            "Test Accuracy : 66.43% \n",
            "12 / 70 | train_loss: 0.8289 | test_loss: 1.06\n",
            "Train Accuracy: 70.94% \n",
            "Test Accuracy : 65.08% \n",
            "13 / 70 | train_loss: 0.8169 | test_loss: 1.01\n",
            "Train Accuracy: 71.37% \n",
            "Test Accuracy : 66.49% \n",
            "14 / 70 | train_loss: 0.8044 | test_loss: 0.99\n",
            "Train Accuracy: 71.56% \n",
            "Test Accuracy : 66.56% \n",
            "15 / 70 | train_loss: 0.7932 | test_loss: 1.02\n",
            "Train Accuracy: 71.98% \n",
            "Test Accuracy : 66.20% \n",
            "16 / 70 | train_loss: 0.7889 | test_loss: 1.02\n",
            "Train Accuracy: 72.12% \n",
            "Test Accuracy : 66.60% \n",
            "17 / 70 | train_loss: 0.7855 | test_loss: 0.99\n",
            "Train Accuracy: 72.42% \n",
            "Test Accuracy : 66.60% \n",
            "18 / 70 | train_loss: 0.7746 | test_loss: 1.05\n",
            "Train Accuracy: 72.76% \n",
            "Test Accuracy : 65.69% \n",
            "19 / 70 | train_loss: 0.7776 | test_loss: 1.02\n",
            "Train Accuracy: 72.51% \n",
            "Test Accuracy : 67.06% \n",
            "20 / 70 | train_loss: 0.7664 | test_loss: 1.03\n",
            "Train Accuracy: 73.03% \n",
            "Test Accuracy : 65.95% \n",
            "21 / 70 | train_loss: 0.7673 | test_loss: 1.01\n",
            "Train Accuracy: 73.26% \n",
            "Test Accuracy : 67.90% \n",
            "22 / 70 | train_loss: 0.7574 | test_loss: 1.04\n",
            "Train Accuracy: 73.38% \n",
            "Test Accuracy : 66.82% \n",
            "23 / 70 | train_loss: 0.7571 | test_loss: 1.00\n",
            "Train Accuracy: 73.36% \n",
            "Test Accuracy : 67.31% \n",
            "24 / 70 | train_loss: 0.7484 | test_loss: 1.08\n",
            "Train Accuracy: 73.67% \n",
            "Test Accuracy : 65.63% \n",
            "25 / 70 | train_loss: 0.7489 | test_loss: 1.00\n",
            "Train Accuracy: 73.74% \n",
            "Test Accuracy : 66.89% \n",
            "26 / 70 | train_loss: 0.7402 | test_loss: 1.03\n",
            "Train Accuracy: 73.90% \n",
            "Test Accuracy : 67.38% \n",
            "27 / 70 | train_loss: 0.7442 | test_loss: 1.04\n",
            "Train Accuracy: 73.90% \n",
            "Test Accuracy : 67.39% \n",
            "28 / 70 | train_loss: 0.7376 | test_loss: 1.05\n",
            "Train Accuracy: 74.05% \n",
            "Test Accuracy : 66.43% \n",
            "29 / 70 | train_loss: 0.7392 | test_loss: 1.03\n",
            "Train Accuracy: 74.03% \n",
            "Test Accuracy : 67.81% \n",
            "30 / 70 | train_loss: 0.7278 | test_loss: 1.00\n",
            "Train Accuracy: 74.37% \n",
            "Test Accuracy : 67.37% \n",
            "31 / 70 | train_loss: 0.7272 | test_loss: 1.03\n",
            "Train Accuracy: 74.40% \n",
            "Test Accuracy : 66.22% \n",
            "32 / 70 | train_loss: 0.7314 | test_loss: 1.04\n",
            "Train Accuracy: 74.52% \n",
            "Test Accuracy : 66.09% \n",
            "33 / 70 | train_loss: 0.7217 | test_loss: 1.06\n",
            "Train Accuracy: 74.89% \n",
            "Test Accuracy : 67.66% \n",
            "34 / 70 | train_loss: 0.7237 | test_loss: 1.01\n",
            "Train Accuracy: 74.73% \n",
            "Test Accuracy : 67.11% \n",
            "35 / 70 | train_loss: 0.7176 | test_loss: 1.01\n",
            "Train Accuracy: 74.86% \n",
            "Test Accuracy : 68.15% \n",
            "36 / 70 | train_loss: 0.7189 | test_loss: 1.07\n",
            "Train Accuracy: 74.68% \n",
            "Test Accuracy : 66.82% \n",
            "37 / 70 | train_loss: 0.7170 | test_loss: 1.05\n",
            "Train Accuracy: 74.89% \n",
            "Test Accuracy : 66.78% \n",
            "38 / 70 | train_loss: 0.7175 | test_loss: 1.07\n",
            "Train Accuracy: 74.87% \n",
            "Test Accuracy : 66.03% \n",
            "39 / 70 | train_loss: 0.7192 | test_loss: 1.02\n",
            "Train Accuracy: 74.84% \n",
            "Test Accuracy : 66.98% \n",
            "40 / 70 | train_loss: 0.7064 | test_loss: 1.03\n",
            "Train Accuracy: 75.31% \n",
            "Test Accuracy : 68.20% \n",
            "41 / 70 | train_loss: 0.7054 | test_loss: 1.10\n",
            "Train Accuracy: 75.30% \n",
            "Test Accuracy : 66.97% \n",
            "42 / 70 | train_loss: 0.7075 | test_loss: 1.04\n",
            "Train Accuracy: 75.25% \n",
            "Test Accuracy : 67.57% \n",
            "43 / 70 | train_loss: 0.7015 | test_loss: 1.06\n",
            "Train Accuracy: 75.43% \n",
            "Test Accuracy : 67.49% \n",
            "44 / 70 | train_loss: 0.7052 | test_loss: 1.08\n",
            "Train Accuracy: 75.37% \n",
            "Test Accuracy : 66.09% \n",
            "45 / 70 | train_loss: 0.7059 | test_loss: 1.06\n",
            "Train Accuracy: 75.41% \n",
            "Test Accuracy : 67.25% \n",
            "46 / 70 | train_loss: 0.7005 | test_loss: 1.03\n",
            "Train Accuracy: 75.82% \n",
            "Test Accuracy : 66.24% \n",
            "47 / 70 | train_loss: 0.6952 | test_loss: 1.06\n",
            "Train Accuracy: 75.72% \n",
            "Test Accuracy : 66.42% \n",
            "48 / 70 | train_loss: 0.6962 | test_loss: 1.09\n",
            "Train Accuracy: 75.94% \n",
            "Test Accuracy : 65.35% \n",
            "49 / 70 | train_loss: 0.6972 | test_loss: 1.07\n",
            "Train Accuracy: 75.45% \n",
            "Test Accuracy : 66.28% \n",
            "50 / 70 | train_loss: 0.7011 | test_loss: 1.07\n",
            "Train Accuracy: 75.60% \n",
            "Test Accuracy : 67.49% \n",
            "51 / 70 | train_loss: 0.6980 | test_loss: 1.07\n",
            "Train Accuracy: 75.68% \n",
            "Test Accuracy : 66.24% \n",
            "52 / 70 | train_loss: 0.7048 | test_loss: 1.03\n",
            "Train Accuracy: 75.56% \n",
            "Test Accuracy : 66.34% \n",
            "53 / 70 | train_loss: 0.6992 | test_loss: 1.07\n",
            "Train Accuracy: 75.66% \n",
            "Test Accuracy : 65.65% \n",
            "54 / 70 | train_loss: 0.6900 | test_loss: 1.04\n",
            "Train Accuracy: 76.10% \n",
            "Test Accuracy : 68.27% \n",
            "55 / 70 | train_loss: 0.6961 | test_loss: 1.05\n",
            "Train Accuracy: 75.74% \n",
            "Test Accuracy : 67.17% \n",
            "56 / 70 | train_loss: 0.6907 | test_loss: 1.07\n",
            "Train Accuracy: 76.05% \n",
            "Test Accuracy : 66.63% \n",
            "57 / 70 | train_loss: 0.6976 | test_loss: 1.06\n",
            "Train Accuracy: 75.60% \n",
            "Test Accuracy : 67.77% \n",
            "58 / 70 | train_loss: 0.6870 | test_loss: 1.09\n",
            "Train Accuracy: 76.08% \n",
            "Test Accuracy : 65.99% \n",
            "59 / 70 | train_loss: 0.6842 | test_loss: 1.07\n",
            "Train Accuracy: 76.14% \n",
            "Test Accuracy : 65.72% \n",
            "60 / 70 | train_loss: 0.6921 | test_loss: 1.09\n",
            "Train Accuracy: 75.73% \n",
            "Test Accuracy : 66.74% \n",
            "61 / 70 | train_loss: 0.6796 | test_loss: 1.10\n",
            "Train Accuracy: 76.12% \n",
            "Test Accuracy : 67.43% \n",
            "62 / 70 | train_loss: 0.6807 | test_loss: 1.06\n",
            "Train Accuracy: 76.36% \n",
            "Test Accuracy : 66.72% \n",
            "63 / 70 | train_loss: 0.6728 | test_loss: 1.09\n",
            "Train Accuracy: 76.65% \n",
            "Test Accuracy : 67.52% \n",
            "64 / 70 | train_loss: 0.6880 | test_loss: 1.09\n",
            "Train Accuracy: 75.94% \n",
            "Test Accuracy : 66.71% \n",
            "65 / 70 | train_loss: 0.6890 | test_loss: 1.07\n",
            "Train Accuracy: 76.12% \n",
            "Test Accuracy : 67.19% \n",
            "66 / 70 | train_loss: 0.6895 | test_loss: 1.07\n",
            "Train Accuracy: 76.16% \n",
            "Test Accuracy : 67.34% \n",
            "67 / 70 | train_loss: 0.6852 | test_loss: 1.04\n",
            "Train Accuracy: 76.13% \n",
            "Test Accuracy : 67.29% \n",
            "68 / 70 | train_loss: 0.6774 | test_loss: 1.09\n",
            "Train Accuracy: 76.71% \n",
            "Test Accuracy : 65.86% \n",
            "69 / 70 | train_loss: 0.6748 | test_loss: 1.08\n",
            "Train Accuracy: 76.60% \n",
            "Test Accuracy : 67.22% \n",
            "70 / 70 | train_loss: 0.6810 | test_loss: 1.10\n",
            "Train Accuracy: 76.12% \n",
            "Test Accuracy : 66.16% \n",
            "Finished Training\n"
          ]
        }
      ]
    },
    {
      "cell_type": "markdown",
      "source": [
        "## Simple model + Augmentation"
      ],
      "metadata": {
        "id": "Ju_UmSfFFOaX"
      }
    },
    {
      "cell_type": "code",
      "source": [
        "#Simple model1\n",
        "class Simple_model1(nn.Module):\n",
        "    def __init__(self):\n",
        "        super().__init__()\n",
        "        self.conv1 = nn.Conv2d(3, 6, 3, padding  = 1) #32\n",
        "        self.conv2 = nn.Conv2d(6, 16, 3,  padding  = 1) #32\n",
        "        self.pool = nn.MaxPool2d(2, 2) #16\n",
        "\n",
        "        self.conv3 = nn.Conv2d(16, 32, 3, padding  = 1) #16\n",
        "        self.conv4 = nn.Conv2d(32, 32, 3,  padding  = 1) #16\n",
        "       # self.pool  #8\n",
        "\n",
        "        self.fc1 = nn.Linear(32 * 8 * 8, 120)\n",
        "        self.fc2 = nn.Linear(120, 64)\n",
        "        self.fc3 = nn.Linear(64, 10)\n",
        "\n",
        "    def forward(self, x):\n",
        "        x = F.relu(self.conv1(x))\n",
        "        x = self.pool(F.relu(self.conv2(x)))\n",
        "\n",
        "        x = F.relu(self.conv3(x))\n",
        "        x = self.pool(F.relu(self.conv4(x)))\n",
        "\n",
        "        x = torch.flatten(x, 1) # flatten all dimensions except batch\n",
        "        x = F.relu(self.fc1(x))\n",
        "        x = F.relu(self.fc2(x))\n",
        "        x = self.fc3(x)\n",
        "        return x\n",
        "\n",
        "\n",
        "net = Simple_model1().to(device)\n",
        "#calc parameters\n",
        "total_params = sum(p.numel() for p in net.parameters())\n",
        "total_trainable_params = sum(p.numel() for p in net.parameters() if p.requires_grad)\n",
        "print(f\"Total number of parameters: {total_params}\")\n",
        "print(f\"Total number of trainable parameters: {total_trainable_params}\")\n"
      ],
      "metadata": {
        "colab": {
          "base_uri": "https://localhost:8080/"
        },
        "outputId": "a43e9e5f-1584-40ea-fd41-65efe107434f",
        "id": "vbWzgWemFOaf"
      },
      "execution_count": null,
      "outputs": [
        {
          "output_type": "stream",
          "name": "stdout",
          "text": [
            "Total number of parameters: 269210\n",
            "Total number of trainable parameters: 269210\n"
          ]
        }
      ]
    },
    {
      "cell_type": "code",
      "source": [
        "#Simple model2 -> REMOVE LAYER\n",
        "class Simple_model2(nn.Module):\n",
        "    def __init__(self):\n",
        "        super().__init__()\n",
        "        self.conv1 = nn.Conv2d(3, 6, 3, padding  = 2) #256\n",
        "        self.conv2 = nn.Conv2d(6, 16, 3,  padding  = 1) #256\n",
        "        self.pool = nn.MaxPool2d(2, 2) #128\n",
        "\n",
        "        self.conv3 = nn.Conv2d(16, 32, 3, padding  = 1) #128\n",
        "        self.conv4 = nn.Conv2d(32, 32, 3,  padding  = 1) #128\n",
        "       # self.pool  #64\n",
        "\n",
        "        self.fc1 = nn.Linear(32 * 64 * 64, 120)\n",
        "        self.fc2 = nn.Linear(120, 10)\n",
        "\n",
        "    def forward(self, x):\n",
        "        x = F.relu(self.conv1(x))\n",
        "        x = self.pool(F.relu(self.conv2(x)))\n",
        "\n",
        "        x = F.relu(self.conv3(x))\n",
        "        x = self.pool(F.relu(self.conv4(x)))\n",
        "\n",
        "        x = torch.flatten(x, 1) # flatten all dimensions except batch\n",
        "        x = F.relu(self.fc1(x))\n",
        "        x = self.fc2(x)\n",
        "        return x\n",
        "\n",
        "\n",
        "#net = Simple_model2().to(device)\n",
        "#calc parameters\n",
        "total_params = sum(p.numel() for p in net.parameters())\n",
        "total_trainable_params = sum(p.numel() for p in net.parameters() if p.requires_grad)\n",
        "print(f\"Total number of parameters: {total_params}\")\n",
        "print(f\"Total number of trainable parameters: {total_trainable_params}\")\n"
      ],
      "metadata": {
        "colab": {
          "base_uri": "https://localhost:8080/"
        },
        "outputId": "f9e1ea93-409e-4f53-d76d-9fb02b032560",
        "id": "fuDpQbW3FOag"
      },
      "execution_count": null,
      "outputs": [
        {
          "output_type": "stream",
          "name": "stdout",
          "text": [
            "Total number of parameters: 15744906\n",
            "Total number of trainable parameters: 15744906\n"
          ]
        }
      ]
    },
    {
      "cell_type": "code",
      "source": [
        "train_loss = []\n",
        "test_loss = []\n",
        "train_acc = []\n",
        "test_acc = []\n",
        "\n",
        "for epoch in range(EPOCHS):  # loop over the dataset multiple times\n",
        "\n",
        "    correct = 0.0\n",
        "    total_batches = 0\n",
        "    running_loss = 0.0\n",
        "\n",
        "    for i, data in enumerate(trainloader, 0):\n",
        "        # get the inputs; data is a list of [inputs, labels]\n",
        "        inputs, labels = data[0].to(device) , data[1].to(device)\n",
        "        # zero the parameter gradients\n",
        "        optimizer.zero_grad()\n",
        "\n",
        "        # forward + backward + optimize\n",
        "        outputs = net(inputs) # 4 batch * 10 class_propability\n",
        "        loss = criterion(outputs, labels)\n",
        "        loss.backward()\n",
        "        optimizer.step()\n",
        "\n",
        "        #train loss and accuracy\n",
        "        running_loss += loss.item() * inputs.size(0)\n",
        "        correct += accurcy(outputs, labels)\n",
        "        total_batches += labels.size(0)\n",
        "\n",
        "    train_acc.append(correct / total_batches)\n",
        "    train_loss.append(running_loss / len(trainset))\n",
        "\n",
        "    t_loss, t_acc = evaluate()\n",
        "    test_acc.append(t_acc)\n",
        "    test_loss.append(t_loss)\n",
        "\n",
        "    print(f'{epoch + 1} / {EPOCHS} | train_loss: {(running_loss/len(trainset)):.4f} | test_loss: {t_loss:.2f}')\n",
        "    print(f'Train Accuracy: {(100 * train_acc[epoch]):.2f}% ')\n",
        "    print(f'Test Accuracy : {(100 * test_acc[epoch]):.2f}% ')\n",
        "    net.train()\n",
        "\n",
        "print('Finished Training')\n"
      ],
      "metadata": {
        "colab": {
          "base_uri": "https://localhost:8080/",
          "height": 1000
        },
        "outputId": "be485cc7-6eb7-42df-9457-de112a2a6f5c",
        "id": "KZy2wG1CFOah"
      },
      "execution_count": null,
      "outputs": [
        {
          "output_type": "stream",
          "name": "stdout",
          "text": [
            "1 / 70 | train_loss: 1.5617 | test_loss: 1.34\n",
            "Train Accuracy: 43.15% \n",
            "Test Accuracy : 51.24% \n",
            "2 / 70 | train_loss: 1.1795 | test_loss: 1.30\n",
            "Train Accuracy: 57.61% \n",
            "Test Accuracy : 53.53% \n",
            "3 / 70 | train_loss: 0.8417 | test_loss: 1.42\n",
            "Train Accuracy: 70.11% \n",
            "Test Accuracy : 53.91% \n",
            "4 / 70 | train_loss: 0.4875 | test_loss: 1.85\n",
            "Train Accuracy: 82.84% \n",
            "Test Accuracy : 51.93% \n",
            "5 / 70 | train_loss: 0.2632 | test_loss: 2.61\n",
            "Train Accuracy: 91.04% \n",
            "Test Accuracy : 50.80% \n",
            "6 / 70 | train_loss: 0.1792 | test_loss: 3.57\n",
            "Train Accuracy: 94.02% \n",
            "Test Accuracy : 50.95% \n",
            "7 / 70 | train_loss: 0.1362 | test_loss: 3.97\n",
            "Train Accuracy: 95.53% \n",
            "Test Accuracy : 50.29% \n",
            "8 / 70 | train_loss: 0.1200 | test_loss: 4.21\n",
            "Train Accuracy: 96.23% \n",
            "Test Accuracy : 50.66% \n",
            "9 / 70 | train_loss: 0.1085 | test_loss: 4.78\n",
            "Train Accuracy: 96.63% \n",
            "Test Accuracy : 49.64% \n",
            "10 / 70 | train_loss: 0.1015 | test_loss: 4.46\n",
            "Train Accuracy: 96.91% \n",
            "Test Accuracy : 50.67% \n",
            "11 / 70 | train_loss: 0.0967 | test_loss: 4.57\n",
            "Train Accuracy: 97.16% \n",
            "Test Accuracy : 50.40% \n",
            "12 / 70 | train_loss: 0.0878 | test_loss: 6.24\n",
            "Train Accuracy: 97.44% \n",
            "Test Accuracy : 49.44% \n",
            "13 / 70 | train_loss: 0.0869 | test_loss: 5.41\n",
            "Train Accuracy: 97.56% \n",
            "Test Accuracy : 49.17% \n",
            "14 / 70 | train_loss: 0.0878 | test_loss: 5.24\n",
            "Train Accuracy: 97.61% \n",
            "Test Accuracy : 50.11% \n",
            "15 / 70 | train_loss: 0.0737 | test_loss: 6.20\n",
            "Train Accuracy: 97.88% \n",
            "Test Accuracy : 49.94% \n",
            "16 / 70 | train_loss: 0.0755 | test_loss: 5.39\n",
            "Train Accuracy: 97.99% \n",
            "Test Accuracy : 48.40% \n",
            "17 / 70 | train_loss: 0.0695 | test_loss: 6.29\n",
            "Train Accuracy: 98.04% \n",
            "Test Accuracy : 49.44% \n",
            "18 / 70 | train_loss: 0.0699 | test_loss: 5.99\n",
            "Train Accuracy: 98.18% \n",
            "Test Accuracy : 50.24% \n",
            "19 / 70 | train_loss: 0.0691 | test_loss: 6.34\n",
            "Train Accuracy: 98.13% \n",
            "Test Accuracy : 48.69% \n",
            "20 / 70 | train_loss: 0.0601 | test_loss: 7.37\n",
            "Train Accuracy: 98.51% \n",
            "Test Accuracy : 49.52% \n",
            "21 / 70 | train_loss: 0.0703 | test_loss: 6.88\n",
            "Train Accuracy: 98.24% \n",
            "Test Accuracy : 49.13% \n",
            "22 / 70 | train_loss: 0.0647 | test_loss: 7.53\n",
            "Train Accuracy: 98.38% \n",
            "Test Accuracy : 49.17% \n",
            "23 / 70 | train_loss: 0.0661 | test_loss: 6.52\n",
            "Train Accuracy: 98.46% \n",
            "Test Accuracy : 49.02% \n",
            "24 / 70 | train_loss: 0.0559 | test_loss: 8.51\n",
            "Train Accuracy: 98.61% \n",
            "Test Accuracy : 49.26% \n",
            "25 / 70 | train_loss: 0.0616 | test_loss: 7.34\n",
            "Train Accuracy: 98.54% \n",
            "Test Accuracy : 49.08% \n"
          ]
        },
        {
          "output_type": "error",
          "ename": "KeyboardInterrupt",
          "evalue": "",
          "traceback": [
            "\u001b[0;31m---------------------------------------------------------------------------\u001b[0m",
            "\u001b[0;31mKeyboardInterrupt\u001b[0m                         Traceback (most recent call last)",
            "\u001b[0;32m<ipython-input-18-1696b79fd2a6>\u001b[0m in \u001b[0;36m<cell line: 6>\u001b[0;34m()\u001b[0m\n\u001b[1;32m     10\u001b[0m     \u001b[0mrunning_loss\u001b[0m \u001b[0;34m=\u001b[0m \u001b[0;36m0.0\u001b[0m\u001b[0;34m\u001b[0m\u001b[0;34m\u001b[0m\u001b[0m\n\u001b[1;32m     11\u001b[0m \u001b[0;34m\u001b[0m\u001b[0m\n\u001b[0;32m---> 12\u001b[0;31m     \u001b[0;32mfor\u001b[0m \u001b[0mi\u001b[0m\u001b[0;34m,\u001b[0m \u001b[0mdata\u001b[0m \u001b[0;32min\u001b[0m \u001b[0menumerate\u001b[0m\u001b[0;34m(\u001b[0m\u001b[0mtrainloader\u001b[0m\u001b[0;34m,\u001b[0m \u001b[0;36m0\u001b[0m\u001b[0;34m)\u001b[0m\u001b[0;34m:\u001b[0m\u001b[0;34m\u001b[0m\u001b[0;34m\u001b[0m\u001b[0m\n\u001b[0m\u001b[1;32m     13\u001b[0m         \u001b[0;31m# get the inputs; data is a list of [inputs, labels]\u001b[0m\u001b[0;34m\u001b[0m\u001b[0;34m\u001b[0m\u001b[0m\n\u001b[1;32m     14\u001b[0m         \u001b[0minputs\u001b[0m\u001b[0;34m,\u001b[0m \u001b[0mlabels\u001b[0m \u001b[0;34m=\u001b[0m \u001b[0mdata\u001b[0m\u001b[0;34m[\u001b[0m\u001b[0;36m0\u001b[0m\u001b[0;34m]\u001b[0m\u001b[0;34m.\u001b[0m\u001b[0mto\u001b[0m\u001b[0;34m(\u001b[0m\u001b[0mdevice\u001b[0m\u001b[0;34m)\u001b[0m \u001b[0;34m,\u001b[0m \u001b[0mdata\u001b[0m\u001b[0;34m[\u001b[0m\u001b[0;36m1\u001b[0m\u001b[0;34m]\u001b[0m\u001b[0;34m.\u001b[0m\u001b[0mto\u001b[0m\u001b[0;34m(\u001b[0m\u001b[0mdevice\u001b[0m\u001b[0;34m)\u001b[0m\u001b[0;34m\u001b[0m\u001b[0;34m\u001b[0m\u001b[0m\n",
            "\u001b[0;32m/usr/local/lib/python3.10/dist-packages/torch/utils/data/dataloader.py\u001b[0m in \u001b[0;36m__next__\u001b[0;34m(self)\u001b[0m\n\u001b[1;32m    624\u001b[0m \u001b[0;34m\u001b[0m\u001b[0m\n\u001b[1;32m    625\u001b[0m     \u001b[0;32mdef\u001b[0m \u001b[0m__next__\u001b[0m\u001b[0;34m(\u001b[0m\u001b[0mself\u001b[0m\u001b[0;34m)\u001b[0m \u001b[0;34m->\u001b[0m \u001b[0mAny\u001b[0m\u001b[0;34m:\u001b[0m\u001b[0;34m\u001b[0m\u001b[0;34m\u001b[0m\u001b[0m\n\u001b[0;32m--> 626\u001b[0;31m         \u001b[0;32mwith\u001b[0m \u001b[0mtorch\u001b[0m\u001b[0;34m.\u001b[0m\u001b[0mautograd\u001b[0m\u001b[0;34m.\u001b[0m\u001b[0mprofiler\u001b[0m\u001b[0;34m.\u001b[0m\u001b[0mrecord_function\u001b[0m\u001b[0;34m(\u001b[0m\u001b[0mself\u001b[0m\u001b[0;34m.\u001b[0m\u001b[0m_profile_name\u001b[0m\u001b[0;34m)\u001b[0m\u001b[0;34m:\u001b[0m\u001b[0;34m\u001b[0m\u001b[0;34m\u001b[0m\u001b[0m\n\u001b[0m\u001b[1;32m    627\u001b[0m             \u001b[0;32mif\u001b[0m \u001b[0mself\u001b[0m\u001b[0;34m.\u001b[0m\u001b[0m_sampler_iter\u001b[0m \u001b[0;32mis\u001b[0m \u001b[0;32mNone\u001b[0m\u001b[0;34m:\u001b[0m\u001b[0;34m\u001b[0m\u001b[0;34m\u001b[0m\u001b[0m\n\u001b[1;32m    628\u001b[0m                 \u001b[0;31m# TODO(https://github.com/pytorch/pytorch/issues/76750)\u001b[0m\u001b[0;34m\u001b[0m\u001b[0;34m\u001b[0m\u001b[0m\n",
            "\u001b[0;32m/usr/local/lib/python3.10/dist-packages/torch/autograd/profiler.py\u001b[0m in \u001b[0;36m__exit__\u001b[0;34m(self, exc_type, exc_value, traceback)\u001b[0m\n\u001b[1;32m    646\u001b[0m         \u001b[0;32mif\u001b[0m \u001b[0;32mnot\u001b[0m \u001b[0mtorch\u001b[0m\u001b[0;34m.\u001b[0m\u001b[0mjit\u001b[0m\u001b[0;34m.\u001b[0m\u001b[0mis_scripting\u001b[0m\u001b[0;34m(\u001b[0m\u001b[0;34m)\u001b[0m\u001b[0;34m:\u001b[0m\u001b[0;34m\u001b[0m\u001b[0;34m\u001b[0m\u001b[0m\n\u001b[1;32m    647\u001b[0m             \u001b[0;32mwith\u001b[0m \u001b[0mtorch\u001b[0m\u001b[0;34m.\u001b[0m\u001b[0m_C\u001b[0m\u001b[0;34m.\u001b[0m\u001b[0mDisableTorchFunctionSubclass\u001b[0m\u001b[0;34m(\u001b[0m\u001b[0;34m)\u001b[0m\u001b[0;34m:\u001b[0m\u001b[0;34m\u001b[0m\u001b[0;34m\u001b[0m\u001b[0m\n\u001b[0;32m--> 648\u001b[0;31m                 \u001b[0mtorch\u001b[0m\u001b[0;34m.\u001b[0m\u001b[0mops\u001b[0m\u001b[0;34m.\u001b[0m\u001b[0mprofiler\u001b[0m\u001b[0;34m.\u001b[0m\u001b[0m_record_function_exit\u001b[0m\u001b[0;34m.\u001b[0m\u001b[0m_RecordFunction\u001b[0m\u001b[0;34m(\u001b[0m\u001b[0mrecord\u001b[0m\u001b[0;34m)\u001b[0m\u001b[0;34m\u001b[0m\u001b[0;34m\u001b[0m\u001b[0m\n\u001b[0m\u001b[1;32m    649\u001b[0m         \u001b[0;32melse\u001b[0m\u001b[0;34m:\u001b[0m\u001b[0;34m\u001b[0m\u001b[0;34m\u001b[0m\u001b[0m\n\u001b[1;32m    650\u001b[0m             \u001b[0mtorch\u001b[0m\u001b[0;34m.\u001b[0m\u001b[0mops\u001b[0m\u001b[0;34m.\u001b[0m\u001b[0mprofiler\u001b[0m\u001b[0;34m.\u001b[0m\u001b[0m_record_function_exit\u001b[0m\u001b[0;34m(\u001b[0m\u001b[0mrecord\u001b[0m\u001b[0;34m)\u001b[0m\u001b[0;34m\u001b[0m\u001b[0;34m\u001b[0m\u001b[0m\n",
            "\u001b[0;32m/usr/local/lib/python3.10/dist-packages/torch/_ops.py\u001b[0m in \u001b[0;36m__call__\u001b[0;34m(self, *args, **kwargs)\u001b[0m\n\u001b[1;32m    446\u001b[0m \u001b[0;34m\u001b[0m\u001b[0m\n\u001b[1;32m    447\u001b[0m     \u001b[0;32mdef\u001b[0m \u001b[0m__call__\u001b[0m\u001b[0;34m(\u001b[0m\u001b[0mself\u001b[0m\u001b[0;34m,\u001b[0m \u001b[0;34m*\u001b[0m\u001b[0margs\u001b[0m\u001b[0;34m,\u001b[0m \u001b[0;34m**\u001b[0m\u001b[0mkwargs\u001b[0m\u001b[0;34m)\u001b[0m\u001b[0;34m:\u001b[0m\u001b[0;34m\u001b[0m\u001b[0;34m\u001b[0m\u001b[0m\n\u001b[0;32m--> 448\u001b[0;31m         \u001b[0;32mreturn\u001b[0m \u001b[0mself\u001b[0m\u001b[0;34m.\u001b[0m\u001b[0m_op\u001b[0m\u001b[0;34m(\u001b[0m\u001b[0;34m*\u001b[0m\u001b[0margs\u001b[0m\u001b[0;34m,\u001b[0m \u001b[0;34m**\u001b[0m\u001b[0mkwargs\u001b[0m \u001b[0;32mor\u001b[0m \u001b[0;34m{\u001b[0m\u001b[0;34m}\u001b[0m\u001b[0;34m)\u001b[0m\u001b[0;34m\u001b[0m\u001b[0;34m\u001b[0m\u001b[0m\n\u001b[0m\u001b[1;32m    449\u001b[0m \u001b[0;34m\u001b[0m\u001b[0m\n\u001b[1;32m    450\u001b[0m     \u001b[0;32mdef\u001b[0m \u001b[0m__hash__\u001b[0m\u001b[0;34m(\u001b[0m\u001b[0mself\u001b[0m\u001b[0;34m)\u001b[0m\u001b[0;34m:\u001b[0m\u001b[0;34m\u001b[0m\u001b[0;34m\u001b[0m\u001b[0m\n",
            "\u001b[0;31mKeyboardInterrupt\u001b[0m: "
          ]
        }
      ]
    },
    {
      "cell_type": "markdown",
      "source": [
        "## Simple + DROPOUT + Augmentation"
      ],
      "metadata": {
        "id": "U8ROEOjoC_Es"
      }
    },
    {
      "cell_type": "code",
      "source": [
        "#Simple model3 -> ADD CONV\n",
        "class Simple_model3(nn.Module):\n",
        "    def __init__(self):\n",
        "        super().__init__()\n",
        "        self.conv1 = nn.Conv2d(3, 6, 3, padding  = 1) #256\n",
        "        self.pool = nn.MaxPool2d(2, 2) #128\n",
        "\n",
        "        self.conv2 = nn.Conv2d(6, 16, 3,  padding  = 1) #128\n",
        "        self.conv3 = nn.Conv2d(16, 32, 3, padding  = 1) #128\n",
        "        # self.pool  #64\n",
        "\n",
        "        self.conv4 = nn.Conv2d(32, 32, 3,  padding  = 1) #64\n",
        "        # self.pool  #32\n",
        "\n",
        "        self.conv5 = nn.Conv2d(32, 64, 3, padding  = 1) #32\n",
        "        # self.pool  #16\n",
        "\n",
        "        self.conv6 = nn.Conv2d(64, 64, 3,  padding  = 1) #16\n",
        "       # self.pool  #8\n",
        "        self.dropout = nn.Dropout(0.3)\n",
        "\n",
        "        self.fc1 = nn.Linear(64 * 8 * 8, 120)\n",
        "        self.fc2 = nn.Linear(120, 10)\n",
        "\n",
        "    def forward(self, x):\n",
        "        x = self.pool(F.relu(self.conv1(x)))\n",
        "        x = self.dropout(x)\n",
        "\n",
        "        x = F.relu(self.conv2(x))\n",
        "        x = self.pool(F.relu(self.conv3(x)))\n",
        "        x = self.dropout(x)\n",
        "\n",
        "        x = self.pool(F.relu(self.conv4(x)))\n",
        "        x = self.pool(F.relu(self.conv5(x)))\n",
        "        x = self.pool(F.relu(self.conv6(x)))\n",
        "\n",
        "        x = torch.flatten(x, 1) # flatten all dimensions except batch\n",
        "        x = F.relu(self.fc1(x))\n",
        "        x = self.dropout(x)\n",
        "\n",
        "        x = self.fc2(x)\n",
        "        return x\n",
        "\n",
        "\n",
        "net = Simple_model3().to(device)\n",
        "#calc parameters\n",
        "total_params = sum(p.numel() for p in net.parameters())\n",
        "total_trainable_params = sum(p.numel() for p in net.parameters() if p.requires_grad)\n",
        "\n",
        "print(f\"Total number of parameters: {total_params}\")\n",
        "print(f\"Total number of trainable parameters: {total_trainable_params}\")\n"
      ],
      "metadata": {
        "colab": {
          "base_uri": "https://localhost:8080/"
        },
        "id": "v_quCysUssCE",
        "outputId": "97df595f-ff13-4284-a29f-bf17f9ff2a61"
      },
      "execution_count": null,
      "outputs": [
        {
          "output_type": "stream",
          "name": "stdout",
          "text": [
            "Total number of parameters: 563210\n",
            "Total number of trainable parameters: 563210\n"
          ]
        }
      ]
    },
    {
      "cell_type": "code",
      "source": [
        "train_loss = []\n",
        "test_loss = []\n",
        "train_acc = []\n",
        "test_acc = []\n",
        "\n",
        "for epoch in range(EPOCHS):  # loop over the dataset multiple times\n",
        "\n",
        "    correct = 0.0\n",
        "    total_batches = 0\n",
        "    running_loss = 0.0\n",
        "\n",
        "    for i, data in enumerate(trainloader, 0):\n",
        "        # get the inputs; data is a list of [inputs, labels]\n",
        "        inputs, labels = data[0].to(device) , data[1].to(device)\n",
        "        # zero the parameter gradients\n",
        "        optimizer.zero_grad()\n",
        "\n",
        "        # forward + backward + optimize\n",
        "        outputs = net(inputs) # 4 batch * 10 class_propability\n",
        "        loss = criterion(outputs, labels)\n",
        "        loss.backward()\n",
        "        optimizer.step()\n",
        "\n",
        "        #train loss and accuracy\n",
        "        running_loss += loss.item() * inputs.size(0)\n",
        "        correct += accurcy(outputs, labels)\n",
        "        total_batches += labels.size(0)\n",
        "\n",
        "    train_acc.append(correct / total_batches)\n",
        "    train_loss.append(running_loss / len(trainset))\n",
        "\n",
        "    t_loss, t_acc = evaluate()\n",
        "    test_acc.append(t_acc)\n",
        "    test_loss.append(t_loss)\n",
        "\n",
        "    print(f'{epoch + 1} / {EPOCHS} | train_loss: {(running_loss/len(trainset)):.4f} | test_loss: {t_loss:.2f}')\n",
        "    print(f'Train Accuracy: {(100 * train_acc[epoch]):.2f}% ')\n",
        "    print(f'Test Accuracy : {(100 * test_acc[epoch]):.2f}% ')\n",
        "    net.train()\n",
        "\n",
        "print('Finished Training')\n"
      ],
      "metadata": {
        "colab": {
          "base_uri": "https://localhost:8080/",
          "height": 974
        },
        "outputId": "345ebe86-75f5-47cd-fe1c-766fc0c53ac7",
        "id": "gUmG2G_MC_Ev"
      },
      "execution_count": null,
      "outputs": [
        {
          "output_type": "stream",
          "name": "stdout",
          "text": [
            "1 / 70 | train_loss: 2.2701 | test_loss: 2.30\n",
            "Train Accuracy: 12.55% \n",
            "Test Accuracy : 10.00% \n",
            "2 / 70 | train_loss: 2.3046 | test_loss: 2.30\n",
            "Train Accuracy: 9.89% \n",
            "Test Accuracy : 10.00% \n",
            "3 / 70 | train_loss: 2.3046 | test_loss: 2.30\n",
            "Train Accuracy: 9.68% \n",
            "Test Accuracy : 10.00% \n",
            "4 / 70 | train_loss: 2.3045 | test_loss: 2.30\n",
            "Train Accuracy: 9.90% \n",
            "Test Accuracy : 10.00% \n",
            "5 / 70 | train_loss: 2.3045 | test_loss: 2.31\n",
            "Train Accuracy: 9.99% \n",
            "Test Accuracy : 10.00% \n",
            "6 / 70 | train_loss: 2.3046 | test_loss: 2.30\n",
            "Train Accuracy: 9.82% \n",
            "Test Accuracy : 10.00% \n",
            "7 / 70 | train_loss: 2.3044 | test_loss: 2.30\n",
            "Train Accuracy: 10.14% \n",
            "Test Accuracy : 10.00% \n",
            "8 / 70 | train_loss: 2.3046 | test_loss: 2.31\n",
            "Train Accuracy: 10.05% \n",
            "Test Accuracy : 10.00% \n",
            "9 / 70 | train_loss: 2.3048 | test_loss: 2.30\n",
            "Train Accuracy: 9.86% \n",
            "Test Accuracy : 10.00% \n",
            "10 / 70 | train_loss: 2.3045 | test_loss: 2.31\n",
            "Train Accuracy: 9.96% \n",
            "Test Accuracy : 10.00% \n",
            "11 / 70 | train_loss: 2.3046 | test_loss: 2.30\n",
            "Train Accuracy: 10.01% \n",
            "Test Accuracy : 10.00% \n",
            "12 / 70 | train_loss: 2.3044 | test_loss: 2.30\n",
            "Train Accuracy: 9.83% \n",
            "Test Accuracy : 10.00% \n",
            "13 / 70 | train_loss: 2.3047 | test_loss: 2.30\n",
            "Train Accuracy: 9.85% \n",
            "Test Accuracy : 10.00% \n",
            "14 / 70 | train_loss: 2.3046 | test_loss: 2.31\n",
            "Train Accuracy: 9.76% \n",
            "Test Accuracy : 10.00% \n"
          ]
        },
        {
          "output_type": "error",
          "ename": "KeyboardInterrupt",
          "evalue": "",
          "traceback": [
            "\u001b[0;31m---------------------------------------------------------------------------\u001b[0m",
            "\u001b[0;31mKeyboardInterrupt\u001b[0m                         Traceback (most recent call last)",
            "\u001b[0;32m<ipython-input-66-1696b79fd2a6>\u001b[0m in \u001b[0;36m<cell line: 6>\u001b[0;34m()\u001b[0m\n\u001b[1;32m     12\u001b[0m     \u001b[0;32mfor\u001b[0m \u001b[0mi\u001b[0m\u001b[0;34m,\u001b[0m \u001b[0mdata\u001b[0m \u001b[0;32min\u001b[0m \u001b[0menumerate\u001b[0m\u001b[0;34m(\u001b[0m\u001b[0mtrainloader\u001b[0m\u001b[0;34m,\u001b[0m \u001b[0;36m0\u001b[0m\u001b[0;34m)\u001b[0m\u001b[0;34m:\u001b[0m\u001b[0;34m\u001b[0m\u001b[0;34m\u001b[0m\u001b[0m\n\u001b[1;32m     13\u001b[0m         \u001b[0;31m# get the inputs; data is a list of [inputs, labels]\u001b[0m\u001b[0;34m\u001b[0m\u001b[0;34m\u001b[0m\u001b[0m\n\u001b[0;32m---> 14\u001b[0;31m         \u001b[0minputs\u001b[0m\u001b[0;34m,\u001b[0m \u001b[0mlabels\u001b[0m \u001b[0;34m=\u001b[0m \u001b[0mdata\u001b[0m\u001b[0;34m[\u001b[0m\u001b[0;36m0\u001b[0m\u001b[0;34m]\u001b[0m\u001b[0;34m.\u001b[0m\u001b[0mto\u001b[0m\u001b[0;34m(\u001b[0m\u001b[0mdevice\u001b[0m\u001b[0;34m)\u001b[0m \u001b[0;34m,\u001b[0m \u001b[0mdata\u001b[0m\u001b[0;34m[\u001b[0m\u001b[0;36m1\u001b[0m\u001b[0;34m]\u001b[0m\u001b[0;34m.\u001b[0m\u001b[0mto\u001b[0m\u001b[0;34m(\u001b[0m\u001b[0mdevice\u001b[0m\u001b[0;34m)\u001b[0m\u001b[0;34m\u001b[0m\u001b[0;34m\u001b[0m\u001b[0m\n\u001b[0m\u001b[1;32m     15\u001b[0m         \u001b[0;31m# zero the parameter gradients\u001b[0m\u001b[0;34m\u001b[0m\u001b[0;34m\u001b[0m\u001b[0m\n\u001b[1;32m     16\u001b[0m         \u001b[0moptimizer\u001b[0m\u001b[0;34m.\u001b[0m\u001b[0mzero_grad\u001b[0m\u001b[0;34m(\u001b[0m\u001b[0;34m)\u001b[0m\u001b[0;34m\u001b[0m\u001b[0;34m\u001b[0m\u001b[0m\n",
            "\u001b[0;31mKeyboardInterrupt\u001b[0m: "
          ]
        }
      ]
    },
    {
      "cell_type": "code",
      "source": [
        "# prepare to count predictions for each class\n",
        "correct_pred = {classname: 0 for classname in classes}\n",
        "total_pred = {classname: 0 for classname in classes}\n",
        "#https://sybernix.medium.com/drawing-loss-curves-for-deep-neural-network-training-in-pytorch-ac617b24c388\n",
        "\n",
        "# again no gradients needed\n",
        "with torch.no_grad():\n",
        "    for data in testloader:\n",
        "        images, labels = data[0].to(device)  , data[1].to(device)\n",
        "        outputs = net(images)\n",
        "        _, predictions = torch.max(outputs, 1)\n",
        "        # collect the correct predictions for each class\n",
        "        for label, pred in zip(labels, predictions):\n",
        "            if label == pred:\n",
        "                correct_pred[classes[label]] += 1\n",
        "            total_pred[classes[label]] += 1\n",
        "\n",
        "keys = []\n",
        "values = []\n",
        "# print accuracy for each class\n",
        "for classname, correct_count in correct_pred.items():\n",
        "    keys.append(classname), values.append(correct_count / total_pred[classname])\n",
        "    accuracy = 100 * float(correct_count) / total_pred[classname]\n",
        "    print(f'Accuracy for class {classname:5s} is {accuracy:.1f} %')"
      ],
      "metadata": {
        "id": "DoY7rMlDC_Ew"
      },
      "execution_count": null,
      "outputs": []
    },
    {
      "cell_type": "code",
      "source": [
        "plt.barh(keys, values)\n",
        "plt.title('Accuracy for class')"
      ],
      "metadata": {
        "id": "XLIUbBN2C_Ew"
      },
      "execution_count": null,
      "outputs": []
    },
    {
      "cell_type": "markdown",
      "source": [
        "## Large model Augmentation + dropout"
      ],
      "metadata": {
        "id": "kseiRKopYmM1"
      }
    },
    {
      "cell_type": "code",
      "source": [
        "class Large_model2(nn.Module):\n",
        "    def __init__(self):\n",
        "        super().__init__()\n",
        "        self.conv1 = nn.Conv2d(3, 6, 3, padding  = 2) #256\n",
        "        self.conv2 = nn.Conv2d(6, 16, 3,  padding  = 1) #256\n",
        "        self.pool = nn.MaxPool2d(2, 2) #128\n",
        "\n",
        "        self.conv3 = nn.Conv2d(16, 32, 3, padding  = 1) #128\n",
        "        self.conv4 = nn.Conv2d(32, 32, 3,  padding  = 1) #128\n",
        "       # self.pool  #64\n",
        "\n",
        "        self.fc1 = nn.Linear(32 * 64 * 64, 64)\n",
        "        self.fc2 = nn.Linear(64, 10)\n",
        "        self.dropout = nn.Dropout(0.7)\n",
        "\n",
        "    def forward(self, x):\n",
        "        x = F.relu(self.conv1(x))\n",
        "        x = self.pool(F.relu(self.conv2(x)))\n",
        "\n",
        "        x = F.relu(self.conv3(x))\n",
        "        x = self.pool(F.relu(self.conv4(x)))\n",
        "\n",
        "        x = torch.flatten(x, 1) # flatten all dimensions except batch\n",
        "        x = F.relu(self.fc1(x))\n",
        "        x = self.dropout(x)\n",
        "        x = self.fc2(x)\n",
        "        return x\n",
        "\n",
        "\n",
        "net = Large_model2().to(device)\n",
        "#calc parameters\n",
        "total_params = sum(p.numel() for p in net.parameters())\n",
        "total_trainable_params = sum(p.numel() for p in net.parameters() if p.requires_grad)\n",
        "\n",
        "print(f\"Total number of parameters: {total_params}\")\n",
        "print(f\"Total number of trainable parameters: {total_trainable_params}\")\n"
      ],
      "metadata": {
        "colab": {
          "base_uri": "https://localhost:8080/"
        },
        "outputId": "339d9a8c-cceb-4705-e40a-53dc5435fcb8",
        "id": "jTRO6PvbYmM-"
      },
      "execution_count": null,
      "outputs": [
        {
          "output_type": "stream",
          "name": "stdout",
          "text": [
            "Total number of parameters: 8404258\n",
            "Total number of trainable parameters: 8404258\n"
          ]
        }
      ]
    },
    {
      "cell_type": "code",
      "source": [
        "train_loss = []\n",
        "test_loss = []\n",
        "train_acc = []\n",
        "test_acc = []\n",
        "\n",
        "for epoch in range(EPOCHS):  # loop over the dataset multiple times\n",
        "\n",
        "    correct = 0.0\n",
        "    total_batches = 0\n",
        "    running_loss = 0.0\n",
        "\n",
        "    for i, data in enumerate(trainloader, 0):\n",
        "        # get the inputs; data is a list of [inputs, labels]\n",
        "        inputs, labels = data[0].to(device) , data[1].to(device)\n",
        "        # zero the parameter gradients\n",
        "        optimizer.zero_grad()\n",
        "\n",
        "        # forward + backward + optimize\n",
        "        outputs = net(inputs) # 4 batch * 10 class_propability\n",
        "        loss = criterion(outputs, labels)\n",
        "        loss.backward()\n",
        "        optimizer.step()\n",
        "\n",
        "        #train loss and accuracy\n",
        "        running_loss += loss.item() * inputs.size(0)\n",
        "        correct += accurcy(outputs, labels)\n",
        "        total_batches += labels.size(0)\n",
        "\n",
        "    train_acc.append(correct / total_batches)\n",
        "    train_loss.append(running_loss / len(trainset))\n",
        "\n",
        "    t_loss, t_acc = evaluate()\n",
        "    test_acc.append(t_acc)\n",
        "    test_loss.append(t_loss)\n",
        "\n",
        "    print(f'{epoch + 1} / {EPOCHS} | train_loss: {(running_loss/len(trainset)):.4f} | test_loss: {t_loss:.2f}')\n",
        "    print(f'Train Accuracy: {(100 * train_acc[epoch]):.2f}% ')\n",
        "    print(f'Test Accuracy : {(100 * test_acc[epoch]):.2f}% ')\n",
        "    net.train()\n",
        "\n",
        "print('Finished Training')\n"
      ],
      "metadata": {
        "id": "ysd81NNhYmM_",
        "colab": {
          "base_uri": "https://localhost:8080/",
          "height": 453
        },
        "outputId": "49710c50-be2a-4e05-b2d2-08da28e07d64"
      },
      "execution_count": null,
      "outputs": [
        {
          "output_type": "stream",
          "name": "stdout",
          "text": [
            "1 / 70 | train_loss: 2.3058 | test_loss: 2.31\n",
            "Train Accuracy: 10.00% \n",
            "Test Accuracy : 10.00% \n",
            "2 / 70 | train_loss: 2.3060 | test_loss: 2.31\n",
            "Train Accuracy: 10.00% \n",
            "Test Accuracy : 10.00% \n",
            "3 / 70 | train_loss: 2.3059 | test_loss: 2.31\n",
            "Train Accuracy: 10.00% \n",
            "Test Accuracy : 10.00% \n",
            "4 / 70 | train_loss: 2.3058 | test_loss: 2.31\n",
            "Train Accuracy: 10.00% \n",
            "Test Accuracy : 10.00% \n"
          ]
        },
        {
          "output_type": "error",
          "ename": "KeyboardInterrupt",
          "evalue": "",
          "traceback": [
            "\u001b[0;31m---------------------------------------------------------------------------\u001b[0m",
            "\u001b[0;31mKeyboardInterrupt\u001b[0m                         Traceback (most recent call last)",
            "\u001b[0;32m<ipython-input-20-1696b79fd2a6>\u001b[0m in \u001b[0;36m<cell line: 6>\u001b[0;34m()\u001b[0m\n\u001b[1;32m     12\u001b[0m     \u001b[0;32mfor\u001b[0m \u001b[0mi\u001b[0m\u001b[0;34m,\u001b[0m \u001b[0mdata\u001b[0m \u001b[0;32min\u001b[0m \u001b[0menumerate\u001b[0m\u001b[0;34m(\u001b[0m\u001b[0mtrainloader\u001b[0m\u001b[0;34m,\u001b[0m \u001b[0;36m0\u001b[0m\u001b[0;34m)\u001b[0m\u001b[0;34m:\u001b[0m\u001b[0;34m\u001b[0m\u001b[0;34m\u001b[0m\u001b[0m\n\u001b[1;32m     13\u001b[0m         \u001b[0;31m# get the inputs; data is a list of [inputs, labels]\u001b[0m\u001b[0;34m\u001b[0m\u001b[0;34m\u001b[0m\u001b[0m\n\u001b[0;32m---> 14\u001b[0;31m         \u001b[0minputs\u001b[0m\u001b[0;34m,\u001b[0m \u001b[0mlabels\u001b[0m \u001b[0;34m=\u001b[0m \u001b[0mdata\u001b[0m\u001b[0;34m[\u001b[0m\u001b[0;36m0\u001b[0m\u001b[0;34m]\u001b[0m\u001b[0;34m.\u001b[0m\u001b[0mto\u001b[0m\u001b[0;34m(\u001b[0m\u001b[0mdevice\u001b[0m\u001b[0;34m)\u001b[0m \u001b[0;34m,\u001b[0m \u001b[0mdata\u001b[0m\u001b[0;34m[\u001b[0m\u001b[0;36m1\u001b[0m\u001b[0;34m]\u001b[0m\u001b[0;34m.\u001b[0m\u001b[0mto\u001b[0m\u001b[0;34m(\u001b[0m\u001b[0mdevice\u001b[0m\u001b[0;34m)\u001b[0m\u001b[0;34m\u001b[0m\u001b[0;34m\u001b[0m\u001b[0m\n\u001b[0m\u001b[1;32m     15\u001b[0m         \u001b[0;31m# zero the parameter gradients\u001b[0m\u001b[0;34m\u001b[0m\u001b[0;34m\u001b[0m\u001b[0m\n\u001b[1;32m     16\u001b[0m         \u001b[0moptimizer\u001b[0m\u001b[0;34m.\u001b[0m\u001b[0mzero_grad\u001b[0m\u001b[0;34m(\u001b[0m\u001b[0;34m)\u001b[0m\u001b[0;34m\u001b[0m\u001b[0;34m\u001b[0m\u001b[0m\n",
            "\u001b[0;31mKeyboardInterrupt\u001b[0m: "
          ]
        }
      ]
    },
    {
      "cell_type": "markdown",
      "source": [
        "## Large model Augmentation + dropout + batch"
      ],
      "metadata": {
        "id": "TXmwmHPv3koK"
      }
    },
    {
      "cell_type": "code",
      "source": [
        "class ConvBlock(nn.Module):\n",
        "    def __init__(self, in_channels, out_channels, kernel_size, stride, padding):\n",
        "        super(ConvBlock, self).__init__()\n",
        "        self.Conv = nn.Conv2d(in_channels=in_channels, out_channels=out_channels, kernel_size=kernel_size, stride=stride, padding=padding)\n",
        "        self.Batch_Norm = nn.BatchNorm2d(num_features=out_channels)\n",
        "        self.Activ_Func = nn.ReLU()\n",
        "\n",
        "    def forward(self, x):\n",
        "        x = self.Conv(x)\n",
        "        x = self.Batch_Norm(x)\n",
        "        x = self.Activ_Func(x)\n",
        "\n",
        "        return x"
      ],
      "metadata": {
        "id": "9GwmPR7c4iL5"
      },
      "execution_count": null,
      "outputs": []
    },
    {
      "cell_type": "code",
      "source": [
        "class Large_model2(nn.Module):\n",
        "    def __init__(self):\n",
        "        super().__init__()\n",
        "        self.conv1 = nn.Conv2d(3, 8, 3, padding  = 2)  #256\n",
        "        self.conv2 = ConvBlock(in_channels=8, out_channels=16, kernel_size=(3,3), stride=(1,1), padding=(1,1))#256\n",
        "        self.pool = nn.MaxPool2d(2, 2) #128\n",
        "\n",
        "        self.conv3 = nn.Conv2d(16, 32, 3, padding  = 2) #128\n",
        "        self.conv4 = ConvBlock(in_channels=32, out_channels=64, kernel_size=(3,3), stride=(1,1), padding=(1,1))#128\n",
        "        #64\n",
        "        self.conv5 = ConvBlock(in_channels=64, out_channels=64, kernel_size=(3,3), stride=(1,1), padding=(1,1))\n",
        "        self.conv6 = ConvBlock(in_channels=64, out_channels=128, kernel_size=(3,3), stride=(1,1), padding=(1,1))\n",
        "        #32\n",
        "\n",
        "        self.fc1 = nn.Linear(128*16*16, 32)\n",
        "        self.fc2 = nn.Linear(32, 10)\n",
        "        self.dropout = nn.Dropout(0.4)\n",
        "        self.dropout2 = nn.Dropout(0.7)\n",
        "\n",
        "    def forward(self, x):\n",
        "        x = F.relu(self.conv1(x))\n",
        "        x = F.relu(self.conv2(x))\n",
        "        x = self.dropout(x)\n",
        "        x = self.pool(x)\n",
        "\n",
        "        x = F.relu(self.conv3(x))\n",
        "        x = self.pool(F.relu(self.conv4(x)))\n",
        "\n",
        "        x = self.pool(F.relu(self.conv5(x)))\n",
        "\n",
        "        x = self.pool(F.relu(self.conv6(x)))\n",
        "\n",
        "        x = torch.flatten(x, 1) # flatten all dimensions except batch\n",
        "        x = F.relu(self.fc1(x))\n",
        "        x = self.dropout2(x)\n",
        "        x = self.fc2(x)\n",
        "        return x\n",
        "\n",
        "\n",
        "net = Large_model2().to(device)\n",
        "#calc parameters\n",
        "total_params = sum(p.numel() for p in net.parameters())\n",
        "total_trainable_params = sum(p.numel() for p in net.parameters() if p.requires_grad)\n",
        "\n",
        "print(f\"Total number of parameters: {total_params}\")\n",
        "print(f\"Total number of trainable parameters: {total_trainable_params}\")\n"
      ],
      "metadata": {
        "colab": {
          "base_uri": "https://localhost:8080/"
        },
        "id": "bh0JNMnG6oxQ",
        "outputId": "22641497-80ee-498f-cf75-769ccbdf6b96"
      },
      "execution_count": null,
      "outputs": [
        {
          "output_type": "stream",
          "name": "stdout",
          "text": [
            "Total number of parameters: 1184794\n",
            "Total number of trainable parameters: 1184794\n"
          ]
        }
      ]
    },
    {
      "cell_type": "markdown",
      "source": [
        "### Train"
      ],
      "metadata": {
        "id": "AhLUspg8jMyg"
      }
    },
    {
      "cell_type": "code",
      "source": [
        "train_loss = []\n",
        "test_loss = []\n",
        "train_acc = []\n",
        "test_acc = []\n",
        "\n",
        "for epoch in range(EPOCHS):  # loop over the dataset multiple times\n",
        "\n",
        "    correct = 0.0\n",
        "    total_batches = 0\n",
        "    running_loss = 0.0\n",
        "\n",
        "    for i, data in enumerate(trainloader, 0):\n",
        "        # get the inputs; data is a list of [inputs, labels]\n",
        "        inputs, labels = data[0].to(device) , data[1].to(device)\n",
        "        # zero the parameter gradients\n",
        "        optimizer.zero_grad()\n",
        "\n",
        "        # forward + backward + optimize\n",
        "        outputs = net(inputs) # 4 batch * 10 class_propability\n",
        "        loss = criterion(outputs, labels)\n",
        "        loss.backward()\n",
        "        optimizer.step()\n",
        "\n",
        "        #train loss and accuracy\n",
        "        running_loss += loss.item() * inputs.size(0)\n",
        "        correct += accurcy(outputs, labels)\n",
        "        total_batches += labels.size(0)\n",
        "\n",
        "    train_acc.append(correct / total_batches)\n",
        "    train_loss.append(running_loss / len(trainset))\n",
        "\n",
        "    t_loss, t_acc = evaluate()\n",
        "    test_acc.append(t_acc)\n",
        "    test_loss.append(t_loss)\n",
        "\n",
        "    print(f'{epoch + 1} / {EPOCHS} | train_loss: {(running_loss/len(trainset)):.4f} | test_loss: {t_loss:.2f}')\n",
        "    print(f'Train Accuracy: {(100 * train_acc[epoch]):.2f}% ')\n",
        "    print(f'Test Accuracy : {(100 * test_acc[epoch]):.2f}% ')\n",
        "    net.train()\n",
        "\n",
        "print('Finished Training')\n"
      ],
      "metadata": {
        "colab": {
          "base_uri": "https://localhost:8080/"
        },
        "outputId": "52d1d43e-676d-4bdd-c3ea-f4ffede1ad57",
        "id": "dgRfmjJF3koN"
      },
      "execution_count": null,
      "outputs": [
        {
          "output_type": "stream",
          "name": "stdout",
          "text": [
            "1 / 70 | train_loss: 2.3680 | test_loss: 2.37\n",
            "Train Accuracy: 10.26% \n",
            "Test Accuracy : 10.48% \n",
            "2 / 70 | train_loss: 2.3686 | test_loss: 2.37\n",
            "Train Accuracy: 10.24% \n",
            "Test Accuracy : 9.86% \n",
            "3 / 70 | train_loss: 2.3715 | test_loss: 2.37\n",
            "Train Accuracy: 10.21% \n",
            "Test Accuracy : 10.29% \n",
            "4 / 70 | train_loss: 2.3714 | test_loss: 2.37\n",
            "Train Accuracy: 10.03% \n",
            "Test Accuracy : 10.24% \n",
            "5 / 70 | train_loss: 2.3713 | test_loss: 2.37\n",
            "Train Accuracy: 10.25% \n",
            "Test Accuracy : 10.12% \n",
            "6 / 70 | train_loss: 2.3697 | test_loss: 2.36\n",
            "Train Accuracy: 10.17% \n",
            "Test Accuracy : 10.54% \n"
          ]
        }
      ]
    }
  ]
}